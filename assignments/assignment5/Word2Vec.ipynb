{
 "cells": [
  {
   "cell_type": "markdown",
   "metadata": {
    "id": "TwuXYaaffCVi"
   },
   "source": [
    "# Задание 5.1 - Word2Vec\n",
    "\n",
    "В этом задании мы натренируем свои word vectors на очень небольшом датасете.\n",
    "Мы будем использовать самую простую версию word2vec, без negative sampling и других оптимизаций.\n",
    "\n",
    "Перед запуском нужно запустить скрипт `download_data.sh` чтобы скачать данные.\n",
    "\n",
    "Датасет и модель очень небольшие, поэтому это задание можно выполнить и без GPU.\n",
    "\n"
   ]
  },
  {
   "cell_type": "code",
   "execution_count": 13,
   "metadata": {
    "executionInfo": {
     "elapsed": 320,
     "status": "ok",
     "timestamp": 1689575394733,
     "user": {
      "displayName": "Вадим Елисеев",
      "userId": "17793287695419241296"
     },
     "user_tz": -180
    },
    "id": "gqFIx8yOLnyx"
   },
   "outputs": [],
   "source": [
    "import torch\n",
    "import torch.nn as nn\n",
    "import torch.optim as optim\n",
    "from torch.utils.data import Dataset\n",
    "\n",
    "from torchvision import transforms\n",
    "\n",
    "import numpy as np\n",
    "import matplotlib.pyplot as plt\n",
    "\n",
    "# We'll use Principal Component Analysis (PCA) to visualize word vectors,\n",
    "# so make sure you install dependencies from requirements.txt!\n",
    "from sklearn.decomposition import PCA\n",
    "\n",
    "%matplotlib inline"
   ]
  },
  {
   "cell_type": "code",
   "execution_count": 16,
   "metadata": {
    "executionInfo": {
     "elapsed": 348,
     "status": "ok",
     "timestamp": 1689575513567,
     "user": {
      "displayName": "Вадим Елисеев",
      "userId": "17793287695419241296"
     },
     "user_tz": -180
    },
    "id": "DmqB1YUOftPN"
   },
   "outputs": [],
   "source": [
    "device = torch.device(\"cuda:0\")"
   ]
  },
  {
   "cell_type": "code",
   "execution_count": 17,
   "metadata": {
    "executionInfo": {
     "elapsed": 255,
     "status": "ok",
     "timestamp": 1689575531685,
     "user": {
      "displayName": "Вадим Елисеев",
      "userId": "17793287695419241296"
     },
     "user_tz": -180
    },
    "id": "_8TB44ikfzil"
   },
   "outputs": [],
   "source": [
    "import os\n",
    "import numpy as np\n",
    "\n",
    "class StanfordTreeBank:\n",
    "    '''\n",
    "    Wrapper for accessing Stanford Tree Bank Dataset\n",
    "    https://nlp.stanford.edu/sentiment/treebank.html\n",
    "\n",
    "    Parses dataset, gives each token and index and provides lookups\n",
    "    from string token to index and back\n",
    "\n",
    "    Allows to generate random context with sampling strategy described in\n",
    "    word2vec paper:\n",
    "    https://papers.nips.cc/paper/5021-distributed-representations-of-words-and-phrases-and-their-compositionality.pdf\n",
    "    '''\n",
    "    def __init__(self):\n",
    "        self.index_by_token = {}\n",
    "        self.token_by_index = []\n",
    "\n",
    "        self.sentences = []\n",
    "\n",
    "        self.token_freq = {}\n",
    "\n",
    "        self.token_reject_by_index = None\n",
    "\n",
    "    def load_dataset(self, folder):\n",
    "        filename = os.path.join(folder, \"datasetSentences.txt\")\n",
    "\n",
    "        with open(filename, \"r\", encoding=\"latin1\") as f:\n",
    "            l = f.readline() # skip the first line\n",
    "\n",
    "            for l in f:\n",
    "                splitted_line = l.strip().split()\n",
    "                words = [w.lower() for w in splitted_line[1:]] # First one is a number\n",
    "\n",
    "                self.sentences.append(words)\n",
    "                for word in words:\n",
    "                    if word in self.token_freq:\n",
    "                        self.token_freq[word] +=1\n",
    "                    else:\n",
    "                        index = len(self.token_by_index)\n",
    "                        self.token_freq[word] = 1\n",
    "                        self.index_by_token[word] = index\n",
    "                        self.token_by_index.append(word)\n",
    "        self.compute_token_prob()\n",
    "\n",
    "    def compute_token_prob(self):\n",
    "        words_count = np.array([self.token_freq[token] for token in self.token_by_index])\n",
    "        words_freq = words_count / np.sum(words_count)\n",
    "\n",
    "        # Following sampling strategy from word2vec paper:\n",
    "        # https://papers.nips.cc/paper/5021-distributed-representations-of-words-and-phrases-and-their-compositionality.pdf\n",
    "        self.token_reject_by_index = 1- np.sqrt(1e-5/words_freq)\n",
    "\n",
    "    def check_reject(self, word):\n",
    "        return np.random.rand() > self.token_reject_by_index[self.index_by_token[word]]\n",
    "\n",
    "    def get_random_context(self, context_length=5):\n",
    "        \"\"\"\n",
    "        Returns tuple of center word and list of context words\n",
    "        \"\"\"\n",
    "        sentence_sampled = []\n",
    "        while len(sentence_sampled) <= 2:\n",
    "            sentence_index = np.random.randint(len(self.sentences))\n",
    "            sentence = self.sentences[sentence_index]\n",
    "            sentence_sampled = [word for word in sentence if self.check_reject(word)]\n",
    "\n",
    "        center_word_index = np.random.randint(len(sentence_sampled))\n",
    "\n",
    "        words_before = sentence_sampled[max(center_word_index - context_length//2,0):center_word_index]\n",
    "        words_after = sentence_sampled[center_word_index+1: center_word_index+1+context_length//2]\n",
    "\n",
    "        return sentence_sampled[center_word_index], words_before+words_after\n",
    "\n",
    "    def num_tokens(self):\n",
    "        return len(self.token_by_index)"
   ]
  },
  {
   "cell_type": "code",
   "execution_count": 18,
   "metadata": {
    "colab": {
     "base_uri": "https://localhost:8080/"
    },
    "executionInfo": {
     "elapsed": 364,
     "status": "ok",
     "timestamp": 1689575537239,
     "user": {
      "displayName": "Вадим Елисеев",
      "userId": "17793287695419241296"
     },
     "user_tz": -180
    },
    "id": "_yMSVXRxf3oh",
    "outputId": "fa46156c-e106-4fe1-a46c-4945aff9a492"
   },
   "outputs": [
    {
     "name": "stdout",
     "output_type": "stream",
     "text": [
      "Num tokens: 19538\n",
      "too ['for', 'blacklight']\n",
      "quills ['intensely', 'shows', 'us']\n",
      "millisecond ['junior-high', 'gag']\n",
      "reeks ['rot', 'hack']\n",
      "mark ['is', 'ms.', 'bullock']\n"
     ]
    }
   ],
   "source": [
    "data = StanfordTreeBank()\n",
    "data.load_dataset(\"./stanfordSentimentTreebank/\")\n",
    "\n",
    "print(\"Num tokens:\", data.num_tokens())\n",
    "for i in range(5):\n",
    "    center_word, other_words = data.get_random_context(5)\n",
    "    print(center_word, other_words)"
   ]
  },
  {
   "cell_type": "markdown",
   "metadata": {
    "id": "nUT-n0z_f8gk"
   },
   "source": [
    "# Имплеменируем PyTorch-style Dataset для Word2Vec\n",
    "\n",
    "Этот Dataset должен сгенерировать много случайных контекстов и превратить их в сэмплы для тренировки.\n",
    "\n",
    "Напоминаем, что word2vec модель получает на вход One-hot вектор слова и тренирует простую сеть для предсказания на его основе соседних слов.\n",
    "Из набора слово-контекст создается N сэмплов (где N - количество слов в контексте):\n",
    "\n",
    "Например:\n",
    "\n",
    "Слово: `orders` и контекст: `['love', 'nicest', 'to', '50-year']` создадут 4 сэмпла:\n",
    "- input: `orders`, target: `love`\n",
    "- input: `orders`, target: `nicest`\n",
    "- input: `orders`, target: `to`\n",
    "- input: `orders`, target: `50-year`\n",
    "\n",
    "Все слова на входе и на выходе закодированы через one-hot encoding, с размером вектора равным количеству токенов."
   ]
  },
  {
   "cell_type": "code",
   "execution_count": 19,
   "metadata": {
    "executionInfo": {
     "elapsed": 299,
     "status": "ok",
     "timestamp": 1689575544856,
     "user": {
      "displayName": "Вадим Елисеев",
      "userId": "17793287695419241296"
     },
     "user_tz": -180
    },
    "id": "RvkH5NM3f_I9"
   },
   "outputs": [],
   "source": [
    "class Word2VecPlain(Dataset):\n",
    "    '''\n",
    "    PyTorch Dataset for plain Word2Vec.\n",
    "    Accepts StanfordTreebank as data and is able to generate dataset based on\n",
    "    a number of random contexts\n",
    "    '''\n",
    "    def __init__(self, data, num_contexts=30000):\n",
    "        '''\n",
    "        Initializes Word2VecPlain, but doesn't generate the samples yet\n",
    "        (for that, use generate_dataset)\n",
    "        Arguments:\n",
    "        data - StanfordTreebank instace\n",
    "        num_contexts - number of random contexts to use when generating a dataset\n",
    "        '''\n",
    "        self.data = data\n",
    "        self.num_contexts = num_contexts\n",
    "        self.num_tokens = data.num_tokens()\n",
    "        self.samples = []\n",
    "\n",
    "    def generate_dataset(self):\n",
    "        '''\n",
    "        Generates dataset samples from random contexts\n",
    "        Note: there will be more samples than contexts because every context\n",
    "        can generate more than one sample\n",
    "        '''\n",
    "        self.samples = []\n",
    "        for _ in range(self.num_contexts):\n",
    "            context = self.data.get_random_context()\n",
    "            center_word, context_words = context\n",
    "            for context_word in context_words:\n",
    "                center_word_idx = self.data.index_by_token[center_word]\n",
    "                context_word_idx = self.data.index_by_token[context_word]\n",
    "                self.samples.append((center_word_idx, context_word_idx))\n",
    "\n",
    "    def __len__(self):\n",
    "        '''\n",
    "        Returns total number of samples\n",
    "        '''\n",
    "        return len(self.samples)\n",
    "\n",
    "    def __getitem__(self, index):\n",
    "        '''\n",
    "        Returns i-th sample\n",
    "\n",
    "        Return values:\n",
    "        input_vector - torch.Tensor with one-hot representation of the input vector\n",
    "        output_index - index of the target word (not torch.Tensor!)\n",
    "        '''\n",
    "        center_word_idx, context_words_idx = self.samples[index]\n",
    "        input_vector = torch.zeros(len(self.data.token_by_index))\n",
    "        input_vector[center_word_idx] = 1\n",
    "        return input_vector, context_words_idx"
   ]
  },
  {
   "cell_type": "code",
   "execution_count": 20,
   "metadata": {
    "colab": {
     "base_uri": "https://localhost:8080/"
    },
    "executionInfo": {
     "elapsed": 251,
     "status": "ok",
     "timestamp": 1689575549025,
     "user": {
      "displayName": "Вадим Елисеев",
      "userId": "17793287695419241296"
     },
     "user_tz": -180
    },
    "id": "F4z7OKptgIP2",
    "outputId": "5ea86d62-9804-4c4a-9ea0-0a8df98dfd8c"
   },
   "outputs": [
    {
     "name": "stdout",
     "output_type": "stream",
     "text": [
      "Sample - input: tensor([0., 0., 0.,  ..., 0., 0., 0.]), target: 693\n"
     ]
    }
   ],
   "source": [
    "dataset = Word2VecPlain(data, 10)\n",
    "dataset.generate_dataset()\n",
    "input_vector, target = dataset[3]\n",
    "print(\"Sample - input: %s, target: %s\" % (input_vector, int(target))) # target should be able to convert to int\n",
    "assert isinstance(input_vector, torch.Tensor)\n",
    "assert torch.sum(input_vector) == 1.0\n",
    "assert input_vector.shape[0] == data.num_tokens()"
   ]
  },
  {
   "cell_type": "markdown",
   "metadata": {
    "id": "Invt8pI3gLrp"
   },
   "source": [
    "# Создаем модель и тренируем ее"
   ]
  },
  {
   "cell_type": "code",
   "execution_count": 39,
   "metadata": {
    "executionInfo": {
     "elapsed": 1574,
     "status": "ok",
     "timestamp": 1689577434287,
     "user": {
      "displayName": "Вадим Елисеев",
      "userId": "17793287695419241296"
     },
     "user_tz": -180
    },
    "id": "ovbl4R8IgK_i"
   },
   "outputs": [],
   "source": [
    "# Create the usual PyTorch structures\n",
    "dataset = Word2VecPlain(data, 30000)\n",
    "dataset.generate_dataset()\n",
    "\n",
    "# We'll be training very small word vectors!\n",
    "wordvec_dim = 10\n",
    "\n",
    "# We can use a standard sequential model for this\n",
    "nn_model = nn.Sequential(\n",
    "            nn.Linear(dataset.num_tokens, wordvec_dim, bias=False),\n",
    "            nn.Linear(wordvec_dim, dataset.num_tokens, bias=False),\n",
    "         )\n",
    "nn_model.type(torch.FloatTensor)\n",
    "nn_model = nn_model.to(device)"
   ]
  },
  {
   "cell_type": "code",
   "execution_count": 22,
   "metadata": {
    "executionInfo": {
     "elapsed": 235,
     "status": "ok",
     "timestamp": 1689575574903,
     "user": {
      "displayName": "Вадим Елисеев",
      "userId": "17793287695419241296"
     },
     "user_tz": -180
    },
    "id": "iP1-UTwhgTM6"
   },
   "outputs": [],
   "source": [
    "def extract_word_vectors(nn_model):\n",
    "    '''\n",
    "    Extracts word vectors from the model\n",
    "\n",
    "    Returns:\n",
    "    input_vectors: torch.Tensor with dimensions (num_tokens, num_dimensions)\n",
    "    output_vectors: torch.Tensor with dimensions (num_tokens, num_dimensions)\n",
    "    '''\n",
    "    return nn_model[0].weight.t(), nn_model[1].weight"
   ]
  },
  {
   "cell_type": "code",
   "execution_count": 23,
   "metadata": {
    "executionInfo": {
     "elapsed": 248,
     "status": "ok",
     "timestamp": 1689575576784,
     "user": {
      "displayName": "Вадим Елисеев",
      "userId": "17793287695419241296"
     },
     "user_tz": -180
    },
    "id": "u1xqm1D9gUdV"
   },
   "outputs": [],
   "source": [
    "untrained_input_vectors, untrained_output_vectors = extract_word_vectors(nn_model)\n",
    "assert untrained_input_vectors.shape == (data.num_tokens(), wordvec_dim)\n",
    "assert untrained_output_vectors.shape == (data.num_tokens(), wordvec_dim)"
   ]
  },
  {
   "cell_type": "code",
   "execution_count": 24,
   "metadata": {
    "executionInfo": {
     "elapsed": 380,
     "status": "ok",
     "timestamp": 1689575628028,
     "user": {
      "displayName": "Вадим Елисеев",
      "userId": "17793287695419241296"
     },
     "user_tz": -180
    },
    "id": "L4_IfedMgcus"
   },
   "outputs": [],
   "source": [
    "def train_model(model, dataset, train_loader, optimizer, scheduler, num_epochs):\n",
    "    '''\n",
    "    Trains plain word2vec using cross-entropy loss and regenerating dataset every epoch\n",
    "\n",
    "    Returns:\n",
    "    loss_history, train_history\n",
    "    '''\n",
    "\n",
    "    loss = nn.CrossEntropyLoss().type(torch.FloatTensor)\n",
    "\n",
    "    loss_history = []\n",
    "    train_history = []\n",
    "\n",
    "    for epoch in range(num_epochs):\n",
    "        model.train() # Enter train mode\n",
    "\n",
    "        dataset.generate_dataset() # Regenerate dataset every epoch\n",
    "\n",
    "        train_loader = torch.utils.data.DataLoader(dataset, batch_size=20)\n",
    "\n",
    "        total_loss = 0\n",
    "        total_accuracy = 0\n",
    "        total_samples = 0\n",
    "\n",
    "        for i_step, (x, y) in enumerate(train_loader):\n",
    "            x_gpu, y_gpu = x.to(device), y.to(device)\n",
    "            prediction = model(x_gpu)\n",
    "            predcted_value = torch.argmax(prediction, dim=1)\n",
    "            loss_value = loss(prediction, y_gpu)\n",
    "            optimizer.zero_grad()\n",
    "            loss_value.backward()\n",
    "            optimizer.step()\n",
    "            total_loss += loss_value\n",
    "            total_accuracy += torch.sum(predcted_value == y_gpu)\n",
    "            total_samples += y_gpu.shape[0]\n",
    "\n",
    "        scheduler.step()\n",
    "\n",
    "        ave_loss = total_loss / (i_step + 1)\n",
    "        train_accuracy = total_accuracy / (i_step + 1)\n",
    "\n",
    "        loss_history.append(float(ave_loss))\n",
    "        train_history.append(float(train_accuracy))\n",
    "\n",
    "        print(\"Epoch %i, Average loss: %f, Train accuracy: %f\" % (epoch, ave_loss, train_accuracy))\n",
    "\n",
    "    return loss_history, train_history"
   ]
  },
  {
   "cell_type": "code",
   "execution_count": 47,
   "metadata": {
    "colab": {
     "base_uri": "https://localhost:8080/"
    },
    "executionInfo": {
     "elapsed": 426063,
     "status": "ok",
     "timestamp": 1689579304663,
     "user": {
      "displayName": "Вадим Елисеев",
      "userId": "17793287695419241296"
     },
     "user_tz": -180
    },
    "id": "CfttQqLBjkot",
    "outputId": "05fa788c-3378-40dd-db74-b8370377f3b2"
   },
   "outputs": [
    {
     "name": "stdout",
     "output_type": "stream",
     "text": [
      "Epoch 0, Average loss: 8.277633, Train accuracy: 0.437213\n",
      "Epoch 1, Average loss: 8.376412, Train accuracy: 0.444418\n",
      "Epoch 2, Average loss: 8.398999, Train accuracy: 0.448501\n",
      "Epoch 3, Average loss: 8.318876, Train accuracy: 0.486192\n",
      "Epoch 4, Average loss: 8.284297, Train accuracy: 0.483801\n",
      "Epoch 5, Average loss: 8.283147, Train accuracy: 0.481150\n",
      "Epoch 6, Average loss: 8.206386, Train accuracy: 0.540325\n",
      "Epoch 7, Average loss: 8.171011, Train accuracy: 0.560657\n",
      "Epoch 8, Average loss: 8.154423, Train accuracy: 0.533688\n",
      "Epoch 9, Average loss: 8.079415, Train accuracy: 0.597289\n",
      "Epoch 10, Average loss: 8.050877, Train accuracy: 0.613527\n",
      "Epoch 11, Average loss: 8.051228, Train accuracy: 0.588690\n",
      "Epoch 12, Average loss: 8.009847, Train accuracy: 0.616071\n",
      "Epoch 13, Average loss: 7.990774, Train accuracy: 0.628468\n",
      "Epoch 14, Average loss: 7.948191, Train accuracy: 0.657246\n",
      "Epoch 15, Average loss: 7.937449, Train accuracy: 0.654068\n",
      "Epoch 16, Average loss: 7.918689, Train accuracy: 0.671415\n",
      "Epoch 17, Average loss: 7.896911, Train accuracy: 0.660063\n",
      "Epoch 18, Average loss: 7.854490, Train accuracy: 0.697894\n",
      "Epoch 19, Average loss: 7.838783, Train accuracy: 0.668679\n",
      "Epoch 20, Average loss: 7.839492, Train accuracy: 0.693552\n",
      "Epoch 21, Average loss: 7.827473, Train accuracy: 0.685127\n",
      "Epoch 22, Average loss: 7.814096, Train accuracy: 0.689638\n",
      "Epoch 23, Average loss: 7.800406, Train accuracy: 0.715873\n",
      "Epoch 24, Average loss: 7.752912, Train accuracy: 0.746731\n",
      "Epoch 25, Average loss: 7.765403, Train accuracy: 0.705598\n",
      "Epoch 26, Average loss: 7.756939, Train accuracy: 0.758412\n",
      "Epoch 27, Average loss: 7.752418, Train accuracy: 0.724903\n",
      "Epoch 28, Average loss: 7.718068, Train accuracy: 0.731854\n",
      "Epoch 29, Average loss: 7.733522, Train accuracy: 0.716904\n",
      "Epoch 30, Average loss: 7.722771, Train accuracy: 0.740077\n",
      "Epoch 31, Average loss: 7.702283, Train accuracy: 0.742747\n",
      "Epoch 32, Average loss: 7.710902, Train accuracy: 0.748186\n",
      "Epoch 33, Average loss: 7.678635, Train accuracy: 0.769379\n",
      "Epoch 34, Average loss: 7.670930, Train accuracy: 0.763980\n",
      "Epoch 35, Average loss: 7.687175, Train accuracy: 0.734428\n",
      "Epoch 36, Average loss: 7.677044, Train accuracy: 0.768355\n",
      "Epoch 37, Average loss: 7.667409, Train accuracy: 0.766281\n",
      "Epoch 38, Average loss: 7.676718, Train accuracy: 0.750544\n",
      "Epoch 39, Average loss: 7.657330, Train accuracy: 0.760155\n",
      "Epoch 40, Average loss: 7.650849, Train accuracy: 0.767521\n",
      "Epoch 41, Average loss: 7.659737, Train accuracy: 0.761721\n",
      "Epoch 42, Average loss: 7.642854, Train accuracy: 0.753021\n",
      "Epoch 43, Average loss: 7.664269, Train accuracy: 0.764067\n",
      "Epoch 44, Average loss: 7.647781, Train accuracy: 0.774427\n",
      "Epoch 45, Average loss: 7.647633, Train accuracy: 0.782138\n",
      "Epoch 46, Average loss: 7.639660, Train accuracy: 0.758946\n",
      "Epoch 47, Average loss: 7.626829, Train accuracy: 0.778797\n",
      "Epoch 48, Average loss: 7.636983, Train accuracy: 0.746680\n",
      "Epoch 49, Average loss: 7.625067, Train accuracy: 0.771373\n"
     ]
    }
   ],
   "source": [
    "# Finally, let's train the model!\n",
    "\n",
    "# TODO: We use placeholder values for hyperparameters - you will need to find better values!\n",
    "optimizer = optim.SGD(nn_model.parameters(), lr=3, weight_decay=0.)\n",
    "scheduler = optim.lr_scheduler.StepLR(optimizer, step_size=3, gamma=0.8)\n",
    "train_loader = torch.utils.data.DataLoader(dataset, batch_size=20)\n",
    "\n",
    "loss_history, train_history = train_model(nn_model, dataset, train_loader, optimizer, scheduler, 50)"
   ]
  },
  {
   "cell_type": "code",
   "execution_count": 48,
   "metadata": {
    "colab": {
     "base_uri": "https://localhost:8080/",
     "height": 447
    },
    "executionInfo": {
     "elapsed": 883,
     "status": "ok",
     "timestamp": 1689579309808,
     "user": {
      "displayName": "Вадим Елисеев",
      "userId": "17793287695419241296"
     },
     "user_tz": -180
    },
    "id": "BnEq1GqYpH95",
    "outputId": "39cb5f89-a634-4633-d37e-e558d82c4116"
   },
   "outputs": [
    {
     "data": {
      "text/plain": [
       "[<matplotlib.lines.Line2D at 0x7972c3787280>]"
      ]
     },
     "execution_count": 48,
     "metadata": {},
     "output_type": "execute_result"
    },
    {
     "data": {
      "image/png": "[encoded data removed]",
      "text/plain": [
       "<Figure size 640x480 with 2 Axes>"
      ]
     },
     "metadata": {},
     "output_type": "display_data"
    }
   ],
   "source": [
    "# Visualize training graphs\n",
    "plt.subplot(211)\n",
    "plt.plot(train_history)\n",
    "plt.subplot(212)\n",
    "plt.plot(loss_history)"
   ]
  },
  {
   "cell_type": "markdown",
   "metadata": {
    "id": "0RoyMCzopOSp"
   },
   "source": [
    "# Визуализируем вектора для разного вида слов до и после тренировки\n",
    "\n",
    "В случае успешной тренировки вы должны увидеть как вектора слов разных типов (например, знаков препинания, предлогов и остальных) разделяются семантически.\n",
    "\n",
    "Студенты - в качестве выполненного задания присылайте notebook с диаграммами!"
   ]
  },
  {
   "cell_type": "code",
   "execution_count": 49,
   "metadata": {
    "colab": {
     "base_uri": "https://localhost:8080/",
     "height": 1000
    },
    "executionInfo": {
     "elapsed": 1656,
     "status": "ok",
     "timestamp": 1689579326073,
     "user": {
      "displayName": "Вадим Елисеев",
      "userId": "17793287695419241296"
     },
     "user_tz": -180
    },
    "id": "0VMUjYlxpPAP",
    "outputId": "c2202f33-e040-42cd-d6cb-7c3e3b454ac9"
   },
   "outputs": [
    {
     "data": {
      "image/png": "[encoded data removed]",
      "text/plain": [
       "<Figure size 700x700 with 1 Axes>"
      ]
     },
     "metadata": {},
     "output_type": "display_data"
    },
    {
     "data": {
      "image/png": "[encoded data removed]",
      "text/plain": [
       "<Figure size 700x700 with 1 Axes>"
      ]
     },
     "metadata": {},
     "output_type": "display_data"
    }
   ],
   "source": [
    "trained_input_vectors, trained_output_vectors = extract_word_vectors(nn_model)\n",
    "assert trained_input_vectors.shape == (data.num_tokens(), wordvec_dim)\n",
    "assert trained_output_vectors.shape == (data.num_tokens(), wordvec_dim)\n",
    "\n",
    "def visualize_vectors(input_vectors, output_vectors, title=''):\n",
    "    full_vectors = torch.cat((input_vectors, output_vectors), 0)\n",
    "    wordvec_embedding = PCA(n_components=2).fit_transform(full_vectors.detach().numpy())\n",
    "\n",
    "    # Helpful words form CS244D example\n",
    "    # http://cs224d.stanford.edu/assignment1/index.html\n",
    "    visualize_words = {'green': [\"the\", \"a\", \"an\"],\n",
    "                      'blue': [\",\", \".\", \"?\", \"!\", \"``\", \"''\", \"--\"],\n",
    "                      'brown': [\"good\", \"great\", \"cool\", \"brilliant\", \"wonderful\",\n",
    "                              \"well\", \"amazing\", \"worth\", \"sweet\", \"enjoyable\"],\n",
    "                      'orange': [\"boring\", \"bad\", \"waste\", \"dumb\", \"annoying\", \"stupid\"],\n",
    "                      'red': ['tell', 'told', 'said', 'say', 'says', 'tells', 'goes', 'go', 'went']\n",
    "                     }\n",
    "\n",
    "    plt.figure(figsize=(7,7))\n",
    "    plt.suptitle(title)\n",
    "    for color, words in visualize_words.items():\n",
    "        points = np.array([wordvec_embedding[data.index_by_token[w]] for w in words])\n",
    "        for i, word in enumerate(words):\n",
    "            plt.text(points[i, 0], points[i, 1], word, color=color,horizontalalignment='center')\n",
    "        plt.scatter(points[:, 0], points[:, 1], c=color, alpha=0.3, s=0.5)\n",
    "\n",
    "visualize_vectors(untrained_input_vectors.cpu(), untrained_output_vectors.cpu(), \"Untrained word vectors\")\n",
    "visualize_vectors(trained_input_vectors.cpu(), trained_output_vectors.cpu(), \"Trained word vectors\")"
   ]
  },
  {
   "cell_type": "code",
   "execution_count": 50,
   "metadata": {
    "executionInfo": {
     "elapsed": 255,
     "status": "ok",
     "timestamp": 1689579423570,
     "user": {
      "displayName": "Вадим Елисеев",
      "userId": "17793287695419241296"
     },
     "user_tz": -180
    },
    "id": "vpDzuOoXx0sD"
   },
   "outputs": [],
   "source": [
    "torch.save(nn_model, f\"models/word_2_vec_result.pth\")"
   ]
  }
 ],
 "metadata": {
  "accelerator": "GPU",
  "colab": {
   "authorship_tag": "ABX9TyMWL9flLtFzHvPxLzXrxS9C",
   "gpuType": "T4",
   "provenance": []
  },
  "kernelspec": {
   "display_name": "Python 3 (ipykernel)",
   "language": "python",
   "name": "python3"
  },
  "language_info": {
   "codemirror_mode": {
    "name": "ipython",
    "version": 3
   },
   "file_extension": ".py",
   "mimetype": "text/x-python",
   "name": "python",
   "nbconvert_exporter": "python",
   "pygments_lexer": "ipython3",
   "version": "3.10.4"
  }
 },
 "nbformat": 4,
 "nbformat_minor": 1
}