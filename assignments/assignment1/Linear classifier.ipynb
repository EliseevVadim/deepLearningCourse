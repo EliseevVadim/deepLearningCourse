{
 "cells": [
  {
   "cell_type": "markdown",
   "metadata": {},
   "source": [
    "# Задание 1.2 - Линейный классификатор (Linear classifier)\n",
    "\n",
    "В этом задании мы реализуем другую модель машинного обучения - линейный классификатор. Линейный классификатор подбирает для каждого класса веса, на которые нужно умножить значение каждого признака и потом сложить вместе.\n",
    "Тот класс, у которого эта сумма больше, и является предсказанием модели.\n",
    "\n",
    "В этом задании вы:\n",
    "- потренируетесь считать градиенты различных многомерных функций\n",
    "- реализуете подсчет градиентов через линейную модель и функцию потерь softmax\n",
    "- реализуете процесс тренировки линейного классификатора\n",
    "- подберете параметры тренировки на практике\n",
    "\n",
    "На всякий случай, еще раз ссылка на туториал по numpy:  \n",
    "http://cs231n.github.io/python-numpy-tutorial/"
   ]
  },
  {
   "cell_type": "code",
   "execution_count": 1,
   "metadata": {},
   "outputs": [],
   "source": [
    "import numpy as np\n",
    "import matplotlib.pyplot as plt\n",
    "\n",
    "%matplotlib inline\n",
    "\n",
    "%load_ext autoreload\n",
    "%autoreload 2"
   ]
  },
  {
   "cell_type": "code",
   "execution_count": 2,
   "metadata": {},
   "outputs": [],
   "source": [
    "from dataset import load_svhn, random_split_train_val\n",
    "from gradient_check import check_gradient\n",
    "from metrics import multiclass_accuracy \n",
    "import linear_classifer"
   ]
  },
  {
   "cell_type": "markdown",
   "metadata": {},
   "source": [
    "# Как всегда, первым делом загружаем данные\n",
    "\n",
    "Мы будем использовать все тот же SVHN."
   ]
  },
  {
   "cell_type": "code",
   "execution_count": 3,
   "metadata": {},
   "outputs": [
    {
     "name": "stderr",
     "output_type": "stream",
     "text": [
      "C:\\Users\\User\\AppData\\Local\\Temp\\ipykernel_18588\\3741198026.py:2: DeprecationWarning: `np.float` is a deprecated alias for the builtin `float`. To silence this warning, use `float` by itself. Doing this will not modify any behavior and is safe. If you specifically wanted the numpy scalar type, use `np.float64` here.\n",
      "Deprecated in NumPy 1.20; for more details and guidance: https://numpy.org/devdocs/release/1.20.0-notes.html#deprecations\n",
      "  train_flat = train_X.reshape(train_X.shape[0], -1).astype(np.float) / 255.0\n",
      "C:\\Users\\User\\AppData\\Local\\Temp\\ipykernel_18588\\3741198026.py:3: DeprecationWarning: `np.float` is a deprecated alias for the builtin `float`. To silence this warning, use `float` by itself. Doing this will not modify any behavior and is safe. If you specifically wanted the numpy scalar type, use `np.float64` here.\n",
      "Deprecated in NumPy 1.20; for more details and guidance: https://numpy.org/devdocs/release/1.20.0-notes.html#deprecations\n",
      "  test_flat = test_X.reshape(test_X.shape[0], -1).astype(np.float) / 255.0\n"
     ]
    }
   ],
   "source": [
    "def prepare_for_linear_classifier(train_X, test_X):\n",
    "    train_flat = train_X.reshape(train_X.shape[0], -1).astype(np.float) / 255.0\n",
    "    test_flat = test_X.reshape(test_X.shape[0], -1).astype(np.float) / 255.0\n",
    "    \n",
    "    # Subtract mean\n",
    "    mean_image = np.mean(train_flat, axis = 0)\n",
    "    train_flat -= mean_image\n",
    "    test_flat -= mean_image\n",
    "    \n",
    "    # Add another channel with ones as a bias term\n",
    "    train_flat_with_ones = np.hstack([train_flat, np.ones((train_X.shape[0], 1))])\n",
    "    test_flat_with_ones = np.hstack([test_flat, np.ones((test_X.shape[0], 1))])    \n",
    "    return train_flat_with_ones, test_flat_with_ones\n",
    "    \n",
    "train_X, train_y, test_X, test_y = load_svhn(\"data\", max_train=10000, max_test=1000)    \n",
    "train_X, test_X = prepare_for_linear_classifier(train_X, test_X)\n",
    "# Split train into train and val\n",
    "train_X, train_y, val_X, val_y = random_split_train_val(train_X, train_y, num_val = 1000)"
   ]
  },
  {
   "cell_type": "markdown",
   "metadata": {},
   "source": [
    "# Играемся с градиентами!\n",
    "\n",
    "В этом курсе мы будем писать много функций, которые вычисляют градиенты аналитическим методом.\n",
    "\n",
    "Все функции, в которых мы будем вычислять градиенты, будут написаны по одной и той же схеме.  \n",
    "Они будут получать на вход точку, где нужно вычислить значение и градиент функции, а на выходе будут выдавать кортеж (tuple) из двух значений - собственно значения функции в этой точке (всегда одно число) и аналитического значения градиента в той же точке (той же размерности, что и вход).\n",
    "```\n",
    "def f(x):\n",
    "    \"\"\"\n",
    "    Computes function and analytic gradient at x\n",
    "    \n",
    "    x: np array of float, input to the function\n",
    "    \n",
    "    Returns:\n",
    "    value: float, value of the function \n",
    "    grad: np array of float, same shape as x\n",
    "    \"\"\"\n",
    "    ...\n",
    "    \n",
    "    return value, grad\n",
    "```\n",
    "\n",
    "Необходимым инструментом во время реализации кода, вычисляющего градиенты, является функция его проверки. Эта функция вычисляет градиент численным методом и сверяет результат с градиентом, вычисленным аналитическим методом.\n",
    "\n",
    "Мы начнем с того, чтобы реализовать вычисление численного градиента (numeric gradient) в функции `check_gradient` в `gradient_check.py`. Эта функция будет принимать на вход функции формата, заданного выше, использовать значение `value` для вычисления численного градиента и сравнит его с аналитическим - они должны сходиться.\n",
    "\n",
    "Напишите часть функции, которая вычисляет градиент с помощью численной производной для каждой координаты. Для вычисления производной используйте так называемую two-point formula (https://en.wikipedia.org/wiki/Numerical_differentiation):\n",
    "\n",
    "![image](https://wikimedia.org/api/rest_v1/media/math/render/svg/22fc2c0a66c63560a349604f8b6b39221566236d)\n",
    "\n",
    "Все функции приведенные в следующей клетке должны проходить gradient check."
   ]
  },
  {
   "cell_type": "code",
   "execution_count": 4,
   "metadata": {
    "scrolled": true
   },
   "outputs": [
    {
     "name": "stdout",
     "output_type": "stream",
     "text": [
      "Gradient check passed!\n",
      "Gradient check passed!\n",
      "Gradient check passed!\n"
     ]
    },
    {
     "data": {
      "text/plain": [
       "True"
      ]
     },
     "execution_count": 4,
     "metadata": {},
     "output_type": "execute_result"
    }
   ],
   "source": [
    "def square(x):\n",
    "    return float(x*x), 2*x\n",
    "\n",
    "check_gradient(square, np.array([3.0]))\n",
    "\n",
    "def array_sum(x):\n",
    "    assert x.shape == (2,), x.shape\n",
    "    return np.sum(x), np.ones_like(x)\n",
    "\n",
    "check_gradient(array_sum, np.array([3.0, 2.0]))\n",
    "\n",
    "def array_2d_sum(x):\n",
    "    assert x.shape == (2,2)\n",
    "    return np.sum(x), np.ones_like(x)\n",
    "\n",
    "check_gradient(array_2d_sum, np.array([[3.0, 2.0], [1.0, 0.0]]))"
   ]
  },
  {
   "cell_type": "markdown",
   "metadata": {},
   "source": [
    "## Начинаем писать свои функции, считающие аналитический градиент\n",
    "\n",
    "Теперь реализуем функцию softmax, которая получает на вход оценки для каждого класса и преобразует их в вероятности от 0 до 1:\n",
    "![image](https://wikimedia.org/api/rest_v1/media/math/render/svg/e348290cf48ddbb6e9a6ef4e39363568b67c09d3)\n",
    "\n",
    "**Важно:** Практический аспект вычисления этой функции заключается в том, что в ней учавствует вычисление экспоненты от потенциально очень больших чисел - это может привести к очень большим значениям в числителе и знаменателе за пределами диапазона float.\n",
    "\n",
    "К счастью, у этой проблемы есть простое решение -- перед вычислением softmax вычесть из всех оценок максимальное значение среди всех оценок:\n",
    "```\n",
    "predictions -= np.max(predictions)\n",
    "```\n",
    "(подробнее здесь - http://cs231n.github.io/linear-classify/#softmax, секция `Practical issues: Numeric stability`)"
   ]
  },
  {
   "cell_type": "code",
   "execution_count": 5,
   "metadata": {},
   "outputs": [],
   "source": [
    "probs = linear_classifer.softmax(np.array([-10, 0, 10]))\n",
    "\n",
    "# Make sure it works for big numbers too!\n",
    "probs = linear_classifer.softmax(np.array([1000, 0, 0]))\n",
    "assert np.isclose(probs[0], 1.0)"
   ]
  },
  {
   "cell_type": "markdown",
   "metadata": {},
   "source": [
    "Кроме этого, мы реализуем cross-entropy loss, которую мы будем использовать как функцию ошибки (error function).\n",
    "В общем виде cross-entropy определена следующим образом:\n",
    "![image](https://wikimedia.org/api/rest_v1/media/math/render/svg/0cb6da032ab424eefdca0884cd4113fe578f4293)\n",
    "\n",
    "где x - все классы, p(x) - истинная вероятность принадлежности сэмпла классу x, а q(x) - вероятность принадлежности классу x, предсказанная моделью.  \n",
    "В нашем случае сэмпл принадлежит только одному классу, индекс которого передается функции. Для него p(x) равна 1, а для остальных классов - 0. \n",
    "\n",
    "Это позволяет реализовать функцию проще!"
   ]
  },
  {
   "cell_type": "code",
   "execution_count": 6,
   "metadata": {},
   "outputs": [
    {
     "data": {
      "text/plain": [
       "5.006760443547122"
      ]
     },
     "execution_count": 6,
     "metadata": {},
     "output_type": "execute_result"
    }
   ],
   "source": [
    "probs = linear_classifer.softmax(np.array([-5, 0, 5]))\n",
    "linear_classifer.cross_entropy_loss(probs, 1)"
   ]
  },
  {
   "cell_type": "markdown",
   "metadata": {},
   "source": [
    "После того как мы реализовали сами функции, мы можем реализовать градиент.\n",
    "\n",
    "Оказывается, что вычисление градиента становится гораздо проще, если объединить эти функции в одну, которая сначала вычисляет вероятности через softmax, а потом использует их для вычисления функции ошибки через cross-entropy loss.\n",
    "\n",
    "Эта функция `softmax_with_cross_entropy` будет возвращает и значение ошибки, и градиент по входным параметрам. Мы проверим корректность реализации с помощью `check_gradient`."
   ]
  },
  {
   "cell_type": "code",
   "execution_count": 7,
   "metadata": {},
   "outputs": [
    {
     "name": "stdout",
     "output_type": "stream",
     "text": [
      "Gradient check passed!\n"
     ]
    },
    {
     "name": "stderr",
     "output_type": "stream",
     "text": [
      "C:\\Users\\User\\AppData\\Local\\Temp\\ipykernel_18588\\2898806447.py:2: DeprecationWarning: `np.float` is a deprecated alias for the builtin `float`. To silence this warning, use `float` by itself. Doing this will not modify any behavior and is safe. If you specifically wanted the numpy scalar type, use `np.float64` here.\n",
      "Deprecated in NumPy 1.20; for more details and guidance: https://numpy.org/devdocs/release/1.20.0-notes.html#deprecations\n",
      "  check_gradient(lambda x: linear_classifer.softmax_with_cross_entropy(x, 1), np.array([1, 0, 0], np.float))\n"
     ]
    },
    {
     "data": {
      "text/plain": [
       "True"
      ]
     },
     "execution_count": 7,
     "metadata": {},
     "output_type": "execute_result"
    }
   ],
   "source": [
    "loss, grad = linear_classifer.softmax_with_cross_entropy(np.array([1, 0, 0]), 1)\n",
    "check_gradient(lambda x: linear_classifer.softmax_with_cross_entropy(x, 1), np.array([1, 0, 0], np.float))"
   ]
  },
  {
   "cell_type": "markdown",
   "metadata": {},
   "source": [
    "В качестве метода тренировки мы будем использовать стохастический градиентный спуск (stochastic gradient descent или SGD), который работает с батчами сэмплов. \n",
    "\n",
    "Поэтому все наши фукнции будут получать не один пример, а батч, то есть входом будет не вектор из `num_classes` оценок, а матрица размерности `batch_size, num_classes`. Индекс примера в батче всегда будет первым измерением.\n",
    "\n",
    "Следующий шаг - переписать наши функции так, чтобы они поддерживали батчи.\n",
    "\n",
    "Финальное значение функции ошибки должно остаться числом, и оно равно среднему значению ошибки среди всех примеров в батче."
   ]
  },
  {
   "cell_type": "code",
   "execution_count": 8,
   "metadata": {
    "scrolled": false
   },
   "outputs": [
    {
     "name": "stdout",
     "output_type": "stream",
     "text": [
      "Gradient check passed!\n",
      "Gradient check passed!\n"
     ]
    },
    {
     "name": "stderr",
     "output_type": "stream",
     "text": [
      "C:\\Users\\User\\AppData\\Local\\Temp\\ipykernel_18588\\2195879044.py:5: DeprecationWarning: `np.float` is a deprecated alias for the builtin `float`. To silence this warning, use `float` by itself. Doing this will not modify any behavior and is safe. If you specifically wanted the numpy scalar type, use `np.float64` here.\n",
      "Deprecated in NumPy 1.20; for more details and guidance: https://numpy.org/devdocs/release/1.20.0-notes.html#deprecations\n",
      "  predictions = np.random.randint(-1, 3, size=(batch_size, num_classes)).astype(np.float)\n",
      "C:\\Users\\User\\AppData\\Local\\Temp\\ipykernel_18588\\2195879044.py:6: DeprecationWarning: `np.int` is a deprecated alias for the builtin `int`. To silence this warning, use `int` by itself. Doing this will not modify any behavior and is safe. When replacing `np.int`, you may wish to use e.g. `np.int64` or `np.int32` to specify the precision. If you wish to review your current use, check the release note link for additional information.\n",
      "Deprecated in NumPy 1.20; for more details and guidance: https://numpy.org/devdocs/release/1.20.0-notes.html#deprecations\n",
      "  target_index = np.random.randint(0, num_classes, size=(batch_size, 1)).astype(np.int)\n",
      "C:\\Users\\User\\AppData\\Local\\Temp\\ipykernel_18588\\2195879044.py:12: DeprecationWarning: `np.float` is a deprecated alias for the builtin `float`. To silence this warning, use `float` by itself. Doing this will not modify any behavior and is safe. If you specifically wanted the numpy scalar type, use `np.float64` here.\n",
      "Deprecated in NumPy 1.20; for more details and guidance: https://numpy.org/devdocs/release/1.20.0-notes.html#deprecations\n",
      "  predictions = np.random.randint(-1, 3, size=(batch_size, num_classes)).astype(np.float)\n",
      "C:\\Users\\User\\AppData\\Local\\Temp\\ipykernel_18588\\2195879044.py:13: DeprecationWarning: `np.int` is a deprecated alias for the builtin `int`. To silence this warning, use `int` by itself. Doing this will not modify any behavior and is safe. When replacing `np.int`, you may wish to use e.g. `np.int64` or `np.int32` to specify the precision. If you wish to review your current use, check the release note link for additional information.\n",
      "Deprecated in NumPy 1.20; for more details and guidance: https://numpy.org/devdocs/release/1.20.0-notes.html#deprecations\n",
      "  target_index = np.random.randint(0, num_classes, size=(batch_size, 1)).astype(np.int)\n"
     ]
    }
   ],
   "source": [
    "np.random.seed(42)\n",
    "# Test batch_size = 1\n",
    "num_classes = 4\n",
    "batch_size = 1\n",
    "predictions = np.random.randint(-1, 3, size=(batch_size, num_classes)).astype(np.float)\n",
    "target_index = np.random.randint(0, num_classes, size=(batch_size, 1)).astype(np.int)\n",
    "check_gradient(lambda x: linear_classifer.softmax_with_cross_entropy(x, target_index), predictions)\n",
    "\n",
    "# Test batch_size = 3\n",
    "num_classes = 4\n",
    "batch_size = 3\n",
    "predictions = np.random.randint(-1, 3, size=(batch_size, num_classes)).astype(np.float)\n",
    "target_index = np.random.randint(0, num_classes, size=(batch_size, 1)).astype(np.int)\n",
    "check_gradient(lambda x: linear_classifer.softmax_with_cross_entropy(x, target_index), predictions)\n",
    "\n",
    "# Make sure maximum subtraction for numberic stability is done separately for every sample in the batch\n",
    "probs = linear_classifer.softmax(np.array([[20,0,0], [1000, 0, 0]]))\n",
    "assert np.all(np.isclose(probs[:, 0], 1.0))"
   ]
  },
  {
   "cell_type": "markdown",
   "metadata": {},
   "source": [
    "### Наконец, реализуем сам линейный классификатор!\n",
    "\n",
    "softmax и cross-entropy получают на вход оценки, которые выдает линейный классификатор.\n",
    "\n",
    "Он делает это очень просто: для каждого класса есть набор весов, на которые надо умножить пиксели картинки и сложить. Получившееся число и является оценкой класса, идущей на вход softmax.\n",
    "\n",
    "Таким образом, линейный классификатор можно представить как умножение вектора с пикселями на матрицу W размера `num_features, num_classes`. Такой подход легко расширяется на случай батча векторов с пикселями X размера `batch_size, num_features`:\n",
    "\n",
    "`predictions = X * W`, где `*` - матричное умножение.\n",
    "\n",
    "Реализуйте функцию подсчета линейного классификатора и градиентов по весам `linear_softmax` в файле `linear_classifer.py`"
   ]
  },
  {
   "cell_type": "code",
   "execution_count": 9,
   "metadata": {},
   "outputs": [
    {
     "name": "stdout",
     "output_type": "stream",
     "text": [
      "Gradient check passed!\n"
     ]
    },
    {
     "name": "stderr",
     "output_type": "stream",
     "text": [
      "C:\\Users\\User\\AppData\\Local\\Temp\\ipykernel_18588\\3765675483.py:5: DeprecationWarning: `np.float` is a deprecated alias for the builtin `float`. To silence this warning, use `float` by itself. Doing this will not modify any behavior and is safe. If you specifically wanted the numpy scalar type, use `np.float64` here.\n",
      "Deprecated in NumPy 1.20; for more details and guidance: https://numpy.org/devdocs/release/1.20.0-notes.html#deprecations\n",
      "  W = np.random.randint(-1, 3, size=(num_features, num_classes)).astype(np.float)\n",
      "C:\\Users\\User\\AppData\\Local\\Temp\\ipykernel_18588\\3765675483.py:6: DeprecationWarning: `np.float` is a deprecated alias for the builtin `float`. To silence this warning, use `float` by itself. Doing this will not modify any behavior and is safe. If you specifically wanted the numpy scalar type, use `np.float64` here.\n",
      "Deprecated in NumPy 1.20; for more details and guidance: https://numpy.org/devdocs/release/1.20.0-notes.html#deprecations\n",
      "  X = np.random.randint(-1, 3, size=(batch_size, num_features)).astype(np.float)\n",
      "C:\\Users\\User\\AppData\\Local\\Temp\\ipykernel_18588\\3765675483.py:7: DeprecationWarning: `np.int` is a deprecated alias for the builtin `int`. To silence this warning, use `int` by itself. Doing this will not modify any behavior and is safe. When replacing `np.int`, you may wish to use e.g. `np.int64` or `np.int32` to specify the precision. If you wish to review your current use, check the release note link for additional information.\n",
      "Deprecated in NumPy 1.20; for more details and guidance: https://numpy.org/devdocs/release/1.20.0-notes.html#deprecations\n",
      "  target_index = np.ones(batch_size, dtype=np.int)\n"
     ]
    },
    {
     "data": {
      "text/plain": [
       "True"
      ]
     },
     "execution_count": 9,
     "metadata": {},
     "output_type": "execute_result"
    }
   ],
   "source": [
    "batch_size = 2\n",
    "num_classes = 2\n",
    "num_features = 3\n",
    "np.random.seed(42)\n",
    "W = np.random.randint(-1, 3, size=(num_features, num_classes)).astype(np.float)\n",
    "X = np.random.randint(-1, 3, size=(batch_size, num_features)).astype(np.float)\n",
    "target_index = np.ones(batch_size, dtype=np.int)\n",
    "\n",
    "loss, dW = linear_classifer.linear_softmax(X, W, target_index)\n",
    "check_gradient(lambda w: linear_classifer.linear_softmax(X, w, target_index), W)"
   ]
  },
  {
   "cell_type": "markdown",
   "metadata": {},
   "source": [
    "### И теперь регуляризация\n",
    "\n",
    "Мы будем использовать L2 regularization для весов как часть общей функции ошибки.\n",
    "\n",
    "Напомним, L2 regularization определяется как\n",
    "\n",
    "l2_reg_loss = regularization_strength * sum<sub>ij</sub> W[i, j]<sup>2</sup>\n",
    "\n",
    "Реализуйте функцию для его вычисления и вычисления соотвествующих градиентов."
   ]
  },
  {
   "cell_type": "code",
   "execution_count": 10,
   "metadata": {},
   "outputs": [
    {
     "name": "stdout",
     "output_type": "stream",
     "text": [
      "Gradient check passed!\n"
     ]
    },
    {
     "data": {
      "text/plain": [
       "True"
      ]
     },
     "execution_count": 10,
     "metadata": {},
     "output_type": "execute_result"
    }
   ],
   "source": [
    "linear_classifer.l2_regularization(W, 0.01)\n",
    "check_gradient(lambda w: linear_classifer.l2_regularization(w, 0.01), W)"
   ]
  },
  {
   "cell_type": "markdown",
   "metadata": {},
   "source": [
    "# Тренировка!"
   ]
  },
  {
   "cell_type": "markdown",
   "metadata": {},
   "source": [
    "Градиенты в порядке, реализуем процесс тренировки!"
   ]
  },
  {
   "cell_type": "code",
   "execution_count": 11,
   "metadata": {
    "scrolled": false
   },
   "outputs": [
    {
     "name": "stdout",
     "output_type": "stream",
     "text": [
      "Epoch 0, loss: 2.609521\n",
      "Epoch 1, loss: 2.597007\n",
      "Epoch 2, loss: 2.585732\n",
      "Epoch 3, loss: 2.574138\n",
      "Epoch 4, loss: 2.563974\n",
      "Epoch 5, loss: 2.553744\n",
      "Epoch 6, loss: 2.543659\n",
      "Epoch 7, loss: 2.533338\n",
      "Epoch 8, loss: 2.525151\n",
      "Epoch 9, loss: 2.515328\n"
     ]
    }
   ],
   "source": [
    "# TODO: Implement LinearSoftmaxClassifier.fit function\n",
    "classifier = linear_classifer.LinearSoftmaxClassifier()\n",
    "loss_history = classifier.fit(train_X, train_y, epochs=10, learning_rate=1e-3, batch_size=300, reg=1e1)"
   ]
  },
  {
   "cell_type": "code",
   "execution_count": 12,
   "metadata": {},
   "outputs": [
    {
     "data": {
      "text/plain": [
       "[<matplotlib.lines.Line2D at 0x21ac2168070>]"
      ]
     },
     "execution_count": 12,
     "metadata": {},
     "output_type": "execute_result"
    },
    {
     "data": {
      "image/png": "[encoded data removed]",
      "text/plain": [
       "<Figure size 432x288 with 1 Axes>"
      ]
     },
     "metadata": {
      "needs_background": "light"
     },
     "output_type": "display_data"
    }
   ],
   "source": [
    "# let's look at the loss history!\n",
    "plt.plot(loss_history)"
   ]
  },
  {
   "cell_type": "code",
   "execution_count": 13,
   "metadata": {},
   "outputs": [
    {
     "name": "stdout",
     "output_type": "stream",
     "text": [
      "Accuracy:  0.099\n",
      "Epoch 0, loss: 2.507067\n",
      "Epoch 1, loss: 2.498413\n",
      "Epoch 2, loss: 2.491181\n",
      "Epoch 3, loss: 2.482845\n",
      "Epoch 4, loss: 2.477016\n",
      "Epoch 5, loss: 2.469421\n",
      "Epoch 6, loss: 2.463827\n",
      "Epoch 7, loss: 2.456372\n",
      "Epoch 8, loss: 2.450310\n",
      "Epoch 9, loss: 2.444668\n",
      "Epoch 10, loss: 2.438689\n",
      "Epoch 11, loss: 2.434523\n",
      "Epoch 12, loss: 2.428234\n",
      "Epoch 13, loss: 2.423648\n",
      "Epoch 14, loss: 2.418134\n",
      "Epoch 15, loss: 2.414459\n",
      "Epoch 16, loss: 2.409686\n",
      "Epoch 17, loss: 2.405867\n",
      "Epoch 18, loss: 2.400968\n",
      "Epoch 19, loss: 2.397254\n",
      "Epoch 20, loss: 2.393383\n",
      "Epoch 21, loss: 2.390240\n",
      "Epoch 22, loss: 2.386441\n",
      "Epoch 23, loss: 2.383248\n",
      "Epoch 24, loss: 2.380141\n",
      "Epoch 25, loss: 2.376766\n",
      "Epoch 26, loss: 2.373705\n",
      "Epoch 27, loss: 2.370559\n",
      "Epoch 28, loss: 2.368221\n",
      "Epoch 29, loss: 2.365835\n",
      "Epoch 30, loss: 2.363129\n",
      "Epoch 31, loss: 2.360911\n",
      "Epoch 32, loss: 2.358432\n",
      "Epoch 33, loss: 2.356031\n",
      "Epoch 34, loss: 2.353355\n",
      "Epoch 35, loss: 2.351466\n",
      "Epoch 36, loss: 2.349136\n",
      "Epoch 37, loss: 2.348236\n",
      "Epoch 38, loss: 2.346170\n",
      "Epoch 39, loss: 2.344930\n",
      "Epoch 40, loss: 2.343381\n",
      "Epoch 41, loss: 2.340590\n",
      "Epoch 42, loss: 2.339238\n",
      "Epoch 43, loss: 2.338416\n",
      "Epoch 44, loss: 2.336736\n",
      "Epoch 45, loss: 2.335193\n",
      "Epoch 46, loss: 2.333005\n",
      "Epoch 47, loss: 2.332236\n",
      "Epoch 48, loss: 2.331602\n",
      "Epoch 49, loss: 2.330352\n",
      "Epoch 50, loss: 2.328879\n",
      "Epoch 51, loss: 2.327258\n",
      "Epoch 52, loss: 2.326799\n",
      "Epoch 53, loss: 2.326177\n",
      "Epoch 54, loss: 2.326149\n",
      "Epoch 55, loss: 2.322674\n",
      "Epoch 56, loss: 2.322778\n",
      "Epoch 57, loss: 2.322124\n",
      "Epoch 58, loss: 2.320671\n",
      "Epoch 59, loss: 2.320875\n",
      "Epoch 60, loss: 2.319475\n",
      "Epoch 61, loss: 2.318908\n",
      "Epoch 62, loss: 2.318612\n",
      "Epoch 63, loss: 2.317629\n",
      "Epoch 64, loss: 2.317320\n",
      "Epoch 65, loss: 2.317093\n",
      "Epoch 66, loss: 2.316709\n",
      "Epoch 67, loss: 2.316508\n",
      "Epoch 68, loss: 2.315280\n",
      "Epoch 69, loss: 2.313593\n",
      "Epoch 70, loss: 2.313831\n",
      "Epoch 71, loss: 2.314176\n",
      "Epoch 72, loss: 2.312977\n",
      "Epoch 73, loss: 2.312384\n",
      "Epoch 74, loss: 2.312220\n",
      "Epoch 75, loss: 2.311845\n",
      "Epoch 76, loss: 2.311265\n",
      "Epoch 77, loss: 2.311575\n",
      "Epoch 78, loss: 2.310366\n",
      "Epoch 79, loss: 2.310576\n",
      "Epoch 80, loss: 2.310503\n",
      "Epoch 81, loss: 2.309408\n",
      "Epoch 82, loss: 2.309800\n",
      "Epoch 83, loss: 2.309316\n",
      "Epoch 84, loss: 2.308624\n",
      "Epoch 85, loss: 2.308100\n",
      "Epoch 86, loss: 2.307809\n",
      "Epoch 87, loss: 2.306654\n",
      "Epoch 88, loss: 2.307775\n",
      "Epoch 89, loss: 2.307275\n",
      "Epoch 90, loss: 2.306619\n",
      "Epoch 91, loss: 2.307747\n",
      "Epoch 92, loss: 2.306087\n",
      "Epoch 93, loss: 2.306079\n",
      "Epoch 94, loss: 2.307024\n",
      "Epoch 95, loss: 2.306498\n",
      "Epoch 96, loss: 2.306049\n",
      "Epoch 97, loss: 2.305024\n",
      "Epoch 98, loss: 2.305802\n",
      "Epoch 99, loss: 2.306048\n",
      "Accuracy after training for 100 epochs:  0.124\n"
     ]
    }
   ],
   "source": [
    "# Let's check how it performs on validation set\n",
    "pred = classifier.predict(val_X)\n",
    "accuracy = multiclass_accuracy(pred, val_y)\n",
    "print(\"Accuracy: \", accuracy)\n",
    "\n",
    "# Now, let's train more and see if it performs better\n",
    "classifier.fit(train_X, train_y, epochs=100, learning_rate=1e-3, batch_size=300, reg=1e1)\n",
    "pred = classifier.predict(val_X)\n",
    "accuracy = multiclass_accuracy(pred, val_y)\n",
    "print(\"Accuracy after training for 100 epochs: \", accuracy)"
   ]
  },
  {
   "cell_type": "markdown",
   "metadata": {},
   "source": [
    "### Как и раньше, используем кросс-валидацию для подбора гиперпараметтов.\n",
    "\n",
    "В этот раз, чтобы тренировка занимала разумное время, мы будем использовать только одно разделение на тренировочные (training) и проверочные (validation) данные.\n",
    "\n",
    "Теперь нам нужно подобрать не один, а два гиперпараметра! Не ограничивайте себя изначальными значениями в коде.  \n",
    "Добейтесь точности более чем **20%** на проверочных данных (validation data)."
   ]
  },
  {
   "cell_type": "code",
   "execution_count": 14,
   "metadata": {},
   "outputs": [
    {
     "name": "stdout",
     "output_type": "stream",
     "text": [
      "Accuracy with 50 epochs, lr=0.1, reg=0.01: 0.212\n",
      "Accuracy with 100 epochs, lr=0.1, reg=0.01: 0.213\n",
      "Accuracy with 200 epochs, lr=0.1, reg=0.01: 0.241\n",
      "Accuracy with 500 epochs, lr=0.1, reg=0.01: 0.247\n",
      "Accuracy with 1000 epochs, lr=0.1, reg=0.01: 0.222\n",
      "Accuracy with 50 epochs, lr=0.1, reg=0.001: 0.201\n",
      "Accuracy with 100 epochs, lr=0.1, reg=0.001: 0.223\n",
      "Accuracy with 200 epochs, lr=0.1, reg=0.001: 0.223\n",
      "Accuracy with 500 epochs, lr=0.1, reg=0.001: 0.242\n",
      "Accuracy with 1000 epochs, lr=0.1, reg=0.001: 0.247\n",
      "Accuracy with 50 epochs, lr=0.1, reg=0.0001: 0.208\n",
      "Accuracy with 100 epochs, lr=0.1, reg=0.0001: 0.237\n",
      "Accuracy with 200 epochs, lr=0.1, reg=0.0001: 0.232\n",
      "Accuracy with 500 epochs, lr=0.1, reg=0.0001: 0.252\n",
      "Accuracy with 1000 epochs, lr=0.1, reg=0.0001: 0.225\n",
      "Accuracy with 50 epochs, lr=0.1, reg=1e-05: 0.197\n",
      "Accuracy with 100 epochs, lr=0.1, reg=1e-05: 0.229\n",
      "Accuracy with 200 epochs, lr=0.1, reg=1e-05: 0.224\n",
      "Accuracy with 500 epochs, lr=0.1, reg=1e-05: 0.251\n",
      "Accuracy with 1000 epochs, lr=0.1, reg=1e-05: 0.242\n",
      "Accuracy with 50 epochs, lr=0.1, reg=1e-06: 0.206\n",
      "Accuracy with 100 epochs, lr=0.1, reg=1e-06: 0.231\n",
      "Accuracy with 200 epochs, lr=0.1, reg=1e-06: 0.226\n",
      "Accuracy with 500 epochs, lr=0.1, reg=1e-06: 0.236\n",
      "Accuracy with 1000 epochs, lr=0.1, reg=1e-06: 0.246\n",
      "Accuracy with 50 epochs, lr=0.1, reg=1e-07: 0.197\n",
      "Accuracy with 100 epochs, lr=0.1, reg=1e-07: 0.202\n",
      "Accuracy with 200 epochs, lr=0.1, reg=1e-07: 0.215\n",
      "Accuracy with 500 epochs, lr=0.1, reg=1e-07: 0.24\n",
      "Accuracy with 1000 epochs, lr=0.1, reg=1e-07: 0.228\n",
      "Accuracy with 50 epochs, lr=0.01, reg=0.01: 0.156\n",
      "Accuracy with 100 epochs, lr=0.01, reg=0.01: 0.186\n",
      "Accuracy with 200 epochs, lr=0.01, reg=0.01: 0.206\n",
      "Accuracy with 500 epochs, lr=0.01, reg=0.01: 0.224\n",
      "Accuracy with 1000 epochs, lr=0.01, reg=0.01: 0.227\n",
      "Accuracy with 50 epochs, lr=0.01, reg=0.001: 0.149\n",
      "Accuracy with 100 epochs, lr=0.01, reg=0.001: 0.191\n",
      "Accuracy with 200 epochs, lr=0.01, reg=0.001: 0.199\n",
      "Accuracy with 500 epochs, lr=0.01, reg=0.001: 0.221\n",
      "Accuracy with 1000 epochs, lr=0.01, reg=0.001: 0.23\n",
      "Accuracy with 50 epochs, lr=0.01, reg=0.0001: 0.172\n",
      "Accuracy with 100 epochs, lr=0.01, reg=0.0001: 0.178\n",
      "Accuracy with 200 epochs, lr=0.01, reg=0.0001: 0.209\n",
      "Accuracy with 500 epochs, lr=0.01, reg=0.0001: 0.228\n",
      "Accuracy with 1000 epochs, lr=0.01, reg=0.0001: 0.23\n",
      "Accuracy with 50 epochs, lr=0.01, reg=1e-05: 0.128\n",
      "Accuracy with 100 epochs, lr=0.01, reg=1e-05: 0.167\n",
      "Accuracy with 200 epochs, lr=0.01, reg=1e-05: 0.204\n",
      "Accuracy with 500 epochs, lr=0.01, reg=1e-05: 0.221\n",
      "Accuracy with 1000 epochs, lr=0.01, reg=1e-05: 0.231\n",
      "Accuracy with 50 epochs, lr=0.01, reg=1e-06: 0.163\n",
      "Accuracy with 100 epochs, lr=0.01, reg=1e-06: 0.18\n",
      "Accuracy with 200 epochs, lr=0.01, reg=1e-06: 0.213\n",
      "Accuracy with 500 epochs, lr=0.01, reg=1e-06: 0.226\n",
      "Accuracy with 1000 epochs, lr=0.01, reg=1e-06: 0.23\n",
      "Accuracy with 50 epochs, lr=0.01, reg=1e-07: 0.18\n",
      "Accuracy with 100 epochs, lr=0.01, reg=1e-07: 0.198\n",
      "Accuracy with 200 epochs, lr=0.01, reg=1e-07: 0.191\n",
      "Accuracy with 500 epochs, lr=0.01, reg=1e-07: 0.223\n",
      "Accuracy with 1000 epochs, lr=0.01, reg=1e-07: 0.231\n",
      "Accuracy with 50 epochs, lr=0.001, reg=0.01: 0.106\n",
      "Accuracy with 100 epochs, lr=0.001, reg=0.01: 0.11\n",
      "Accuracy with 200 epochs, lr=0.001, reg=0.01: 0.128\n",
      "Accuracy with 500 epochs, lr=0.001, reg=0.01: 0.182\n",
      "Accuracy with 1000 epochs, lr=0.001, reg=0.01: 0.195\n",
      "Accuracy with 50 epochs, lr=0.001, reg=0.001: 0.125\n",
      "Accuracy with 100 epochs, lr=0.001, reg=0.001: 0.128\n",
      "Accuracy with 200 epochs, lr=0.001, reg=0.001: 0.13\n",
      "Accuracy with 500 epochs, lr=0.001, reg=0.001: 0.16\n",
      "Accuracy with 1000 epochs, lr=0.001, reg=0.001: 0.194\n",
      "Accuracy with 50 epochs, lr=0.001, reg=0.0001: 0.094\n",
      "Accuracy with 100 epochs, lr=0.001, reg=0.0001: 0.123\n",
      "Accuracy with 200 epochs, lr=0.001, reg=0.0001: 0.142\n",
      "Accuracy with 500 epochs, lr=0.001, reg=0.0001: 0.176\n",
      "Accuracy with 1000 epochs, lr=0.001, reg=0.0001: 0.209\n",
      "Accuracy with 50 epochs, lr=0.001, reg=1e-05: 0.101\n",
      "Accuracy with 100 epochs, lr=0.001, reg=1e-05: 0.119\n",
      "Accuracy with 200 epochs, lr=0.001, reg=1e-05: 0.157\n",
      "Accuracy with 500 epochs, lr=0.001, reg=1e-05: 0.166\n",
      "Accuracy with 1000 epochs, lr=0.001, reg=1e-05: 0.192\n",
      "Accuracy with 50 epochs, lr=0.001, reg=1e-06: 0.119\n",
      "Accuracy with 100 epochs, lr=0.001, reg=1e-06: 0.167\n",
      "Accuracy with 200 epochs, lr=0.001, reg=1e-06: 0.146\n",
      "Accuracy with 500 epochs, lr=0.001, reg=1e-06: 0.171\n",
      "Accuracy with 1000 epochs, lr=0.001, reg=1e-06: 0.189\n",
      "Accuracy with 50 epochs, lr=0.001, reg=1e-07: 0.133\n",
      "Accuracy with 100 epochs, lr=0.001, reg=1e-07: 0.146\n",
      "Accuracy with 200 epochs, lr=0.001, reg=1e-07: 0.124\n",
      "Accuracy with 500 epochs, lr=0.001, reg=1e-07: 0.164\n",
      "Accuracy with 1000 epochs, lr=0.001, reg=1e-07: 0.198\n",
      "Accuracy with 50 epochs, lr=0.0001, reg=0.01: 0.124\n",
      "Accuracy with 100 epochs, lr=0.0001, reg=0.01: 0.117\n",
      "Accuracy with 200 epochs, lr=0.0001, reg=0.01: 0.124\n",
      "Accuracy with 500 epochs, lr=0.0001, reg=0.01: 0.129\n",
      "Accuracy with 1000 epochs, lr=0.0001, reg=0.01: 0.128\n",
      "Accuracy with 50 epochs, lr=0.0001, reg=0.001: 0.101\n",
      "Accuracy with 100 epochs, lr=0.0001, reg=0.001: 0.118\n",
      "Accuracy with 200 epochs, lr=0.0001, reg=0.001: 0.133\n",
      "Accuracy with 500 epochs, lr=0.0001, reg=0.001: 0.131\n",
      "Accuracy with 1000 epochs, lr=0.0001, reg=0.001: 0.147\n",
      "Accuracy with 50 epochs, lr=0.0001, reg=0.0001: 0.118\n",
      "Accuracy with 100 epochs, lr=0.0001, reg=0.0001: 0.097\n",
      "Accuracy with 200 epochs, lr=0.0001, reg=0.0001: 0.111\n",
      "Accuracy with 500 epochs, lr=0.0001, reg=0.0001: 0.126\n",
      "Accuracy with 1000 epochs, lr=0.0001, reg=0.0001: 0.138\n",
      "Accuracy with 50 epochs, lr=0.0001, reg=1e-05: 0.081\n",
      "Accuracy with 100 epochs, lr=0.0001, reg=1e-05: 0.133\n",
      "Accuracy with 200 epochs, lr=0.0001, reg=1e-05: 0.116\n",
      "Accuracy with 500 epochs, lr=0.0001, reg=1e-05: 0.124\n",
      "Accuracy with 1000 epochs, lr=0.0001, reg=1e-05: 0.121\n",
      "Accuracy with 50 epochs, lr=0.0001, reg=1e-06: 0.112\n",
      "Accuracy with 100 epochs, lr=0.0001, reg=1e-06: 0.122\n",
      "Accuracy with 200 epochs, lr=0.0001, reg=1e-06: 0.109\n",
      "Accuracy with 500 epochs, lr=0.0001, reg=1e-06: 0.118\n",
      "Accuracy with 1000 epochs, lr=0.0001, reg=1e-06: 0.117\n",
      "Accuracy with 50 epochs, lr=0.0001, reg=1e-07: 0.094\n",
      "Accuracy with 100 epochs, lr=0.0001, reg=1e-07: 0.105\n",
      "Accuracy with 200 epochs, lr=0.0001, reg=1e-07: 0.098\n",
      "Accuracy with 500 epochs, lr=0.0001, reg=1e-07: 0.111\n",
      "Accuracy with 1000 epochs, lr=0.0001, reg=1e-07: 0.134\n",
      "Accuracy with 50 epochs, lr=1e-05, reg=0.01: 0.09\n",
      "Accuracy with 100 epochs, lr=1e-05, reg=0.01: 0.075\n",
      "Accuracy with 200 epochs, lr=1e-05, reg=0.01: 0.137\n",
      "Accuracy with 500 epochs, lr=1e-05, reg=0.01: 0.128\n",
      "Accuracy with 1000 epochs, lr=1e-05, reg=0.01: 0.081\n",
      "Accuracy with 50 epochs, lr=1e-05, reg=0.001: 0.103\n",
      "Accuracy with 100 epochs, lr=1e-05, reg=0.001: 0.068\n",
      "Accuracy with 200 epochs, lr=1e-05, reg=0.001: 0.112\n",
      "Accuracy with 500 epochs, lr=1e-05, reg=0.001: 0.11\n",
      "Accuracy with 1000 epochs, lr=1e-05, reg=0.001: 0.103\n",
      "Accuracy with 50 epochs, lr=1e-05, reg=0.0001: 0.101\n",
      "Accuracy with 100 epochs, lr=1e-05, reg=0.0001: 0.126\n",
      "Accuracy with 200 epochs, lr=1e-05, reg=0.0001: 0.087\n",
      "Accuracy with 500 epochs, lr=1e-05, reg=0.0001: 0.078\n",
      "Accuracy with 1000 epochs, lr=1e-05, reg=0.0001: 0.111\n",
      "Accuracy with 50 epochs, lr=1e-05, reg=1e-05: 0.097\n",
      "Accuracy with 100 epochs, lr=1e-05, reg=1e-05: 0.114\n",
      "Accuracy with 200 epochs, lr=1e-05, reg=1e-05: 0.075\n",
      "Accuracy with 500 epochs, lr=1e-05, reg=1e-05: 0.123\n",
      "Accuracy with 1000 epochs, lr=1e-05, reg=1e-05: 0.114\n",
      "Accuracy with 50 epochs, lr=1e-05, reg=1e-06: 0.109\n",
      "Accuracy with 100 epochs, lr=1e-05, reg=1e-06: 0.087\n",
      "Accuracy with 200 epochs, lr=1e-05, reg=1e-06: 0.127\n",
      "Accuracy with 500 epochs, lr=1e-05, reg=1e-06: 0.108\n",
      "Accuracy with 1000 epochs, lr=1e-05, reg=1e-06: 0.117\n",
      "Accuracy with 50 epochs, lr=1e-05, reg=1e-07: 0.078\n",
      "Accuracy with 100 epochs, lr=1e-05, reg=1e-07: 0.083\n",
      "Accuracy with 200 epochs, lr=1e-05, reg=1e-07: 0.11\n",
      "Accuracy with 500 epochs, lr=1e-05, reg=1e-07: 0.095\n",
      "Accuracy with 1000 epochs, lr=1e-05, reg=1e-07: 0.126\n",
      "Accuracy with 50 epochs, lr=1e-06, reg=0.01: 0.081\n",
      "Accuracy with 100 epochs, lr=1e-06, reg=0.01: 0.095\n",
      "Accuracy with 200 epochs, lr=1e-06, reg=0.01: 0.084\n",
      "Accuracy with 500 epochs, lr=1e-06, reg=0.01: 0.081\n",
      "Accuracy with 1000 epochs, lr=1e-06, reg=0.01: 0.077\n",
      "Accuracy with 50 epochs, lr=1e-06, reg=0.001: 0.106\n",
      "Accuracy with 100 epochs, lr=1e-06, reg=0.001: 0.105\n"
     ]
    },
    {
     "name": "stdout",
     "output_type": "stream",
     "text": [
      "Accuracy with 200 epochs, lr=1e-06, reg=0.001: 0.124\n",
      "Accuracy with 500 epochs, lr=1e-06, reg=0.001: 0.093\n",
      "Accuracy with 1000 epochs, lr=1e-06, reg=0.001: 0.114\n",
      "Accuracy with 50 epochs, lr=1e-06, reg=0.0001: 0.116\n",
      "Accuracy with 100 epochs, lr=1e-06, reg=0.0001: 0.101\n",
      "Accuracy with 200 epochs, lr=1e-06, reg=0.0001: 0.086\n",
      "Accuracy with 500 epochs, lr=1e-06, reg=0.0001: 0.127\n",
      "Accuracy with 1000 epochs, lr=1e-06, reg=0.0001: 0.093\n",
      "Accuracy with 50 epochs, lr=1e-06, reg=1e-05: 0.074\n",
      "Accuracy with 100 epochs, lr=1e-06, reg=1e-05: 0.106\n",
      "Accuracy with 200 epochs, lr=1e-06, reg=1e-05: 0.126\n",
      "Accuracy with 500 epochs, lr=1e-06, reg=1e-05: 0.096\n",
      "Accuracy with 1000 epochs, lr=1e-06, reg=1e-05: 0.082\n",
      "Accuracy with 50 epochs, lr=1e-06, reg=1e-06: 0.095\n",
      "Accuracy with 100 epochs, lr=1e-06, reg=1e-06: 0.082\n",
      "Accuracy with 200 epochs, lr=1e-06, reg=1e-06: 0.104\n",
      "Accuracy with 500 epochs, lr=1e-06, reg=1e-06: 0.085\n",
      "Accuracy with 1000 epochs, lr=1e-06, reg=1e-06: 0.124\n",
      "Accuracy with 50 epochs, lr=1e-06, reg=1e-07: 0.096\n",
      "Accuracy with 100 epochs, lr=1e-06, reg=1e-07: 0.106\n",
      "Accuracy with 200 epochs, lr=1e-06, reg=1e-07: 0.099\n",
      "Accuracy with 500 epochs, lr=1e-06, reg=1e-07: 0.12\n",
      "Accuracy with 1000 epochs, lr=1e-06, reg=1e-07: 0.135\n",
      "best validation accuracy achieved: 0.252000\n"
     ]
    }
   ],
   "source": [
    "nums_epochs = [50, 100, 200, 500, 1000]\n",
    "batch_size = 300\n",
    "\n",
    "learning_rates = [1e-1, 1e-2, 1e-3, 1e-4, 1e-5, 1e-6]\n",
    "reg_strengths = [1e-2, 1e-3, 1e-4, 1e-5, 1e-6, 1e-7]\n",
    "\n",
    "best_classifier = None\n",
    "best_val_accuracy = 0\n",
    "best_history = None\n",
    "\n",
    "for lr in learning_rates:\n",
    "    for rs in reg_strengths:\n",
    "        for num_epochs in nums_epochs:\n",
    "            classifier = linear_classifer.LinearSoftmaxClassifier()\n",
    "            loss_history = classifier.fit(train_X, train_y, epochs=num_epochs, \n",
    "                                      learning_rate=lr, batch_size=batch_size, reg=rs, verbose = False)\n",
    "            prediction = classifier.predict(val_X)\n",
    "            accuracy = multiclass_accuracy(prediction, val_y)\n",
    "            print(f\"Accuracy with {num_epochs} epochs, lr={lr}, reg={rs}: {accuracy}\")\n",
    "        \n",
    "            if accuracy > best_val_accuracy:\n",
    "                best_val_accuracy = accuracy\n",
    "                best_history = loss_history\n",
    "                best_classifier = classifier\n",
    "\n",
    "print('best validation accuracy achieved: %f' % best_val_accuracy)"
   ]
  },
  {
   "cell_type": "code",
   "execution_count": 15,
   "metadata": {},
   "outputs": [
    {
     "data": {
      "text/plain": [
       "[<matplotlib.lines.Line2D at 0x21ac2222fe0>]"
      ]
     },
     "execution_count": 15,
     "metadata": {},
     "output_type": "execute_result"
    },
    {
     "data": {
      "image/png": "[encoded data removed]",
      "text/plain": [
       "<Figure size 432x288 with 1 Axes>"
      ]
     },
     "metadata": {
      "needs_background": "light"
     },
     "output_type": "display_data"
    }
   ],
   "source": [
    "plt.plot(best_history)"
   ]
  },
  {
   "cell_type": "markdown",
   "metadata": {},
   "source": [
    "# Какой же точности мы добились на тестовых данных?"
   ]
  },
  {
   "cell_type": "code",
   "execution_count": 16,
   "metadata": {},
   "outputs": [
    {
     "name": "stdout",
     "output_type": "stream",
     "text": [
      "Linear softmax classifier test set accuracy: 0.196000\n"
     ]
    }
   ],
   "source": [
    "test_pred = best_classifier.predict(test_X)\n",
    "test_accuracy = multiclass_accuracy(test_pred, test_y)\n",
    "print('Linear softmax classifier test set accuracy: %f' % (test_accuracy, ))"
   ]
  }
 ],
 "metadata": {
  "kernelspec": {
   "display_name": "Python 3 (ipykernel)",
   "language": "python",
   "name": "python3"
  },
  "language_info": {
   "codemirror_mode": {
    "name": "ipython",
    "version": 3
   },
   "file_extension": ".py",
   "mimetype": "text/x-python",
   "name": "python",
   "nbconvert_exporter": "python",
   "pygments_lexer": "ipython3",
   "version": "3.10.4"
  }
 },
 "nbformat": 4,
 "nbformat_minor": 2
}
