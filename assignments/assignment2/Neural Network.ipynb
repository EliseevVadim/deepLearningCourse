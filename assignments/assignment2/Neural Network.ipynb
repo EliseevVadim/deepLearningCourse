{
 "cells": [
  {
   "cell_type": "markdown",
   "metadata": {},
   "source": [
    "# Задание 2.1 - Нейронные сети\n",
    "\n",
    "В этом задании вы реализуете и натренируете настоящую нейроную сеть своими руками!\n",
    "\n",
    "В некотором смысле это будет расширением прошлого задания - нам нужно просто составить несколько линейных классификаторов вместе!\n",
    "\n",
    "<img src=\"https://i.redd.it/n9fgba8b0qr01.png\" alt=\"Stack_more_layers\" width=\"400px\"/>"
   ]
  },
  {
   "cell_type": "code",
   "execution_count": 1,
   "metadata": {},
   "outputs": [],
   "source": [
    "import numpy as np\n",
    "import matplotlib.pyplot as plt\n",
    "\n",
    "%matplotlib inline\n",
    "\n",
    "%load_ext autoreload\n",
    "%autoreload 2"
   ]
  },
  {
   "cell_type": "code",
   "execution_count": 2,
   "metadata": {},
   "outputs": [],
   "source": [
    "from dataset import load_svhn, random_split_train_val\n",
    "from gradient_check import check_layer_gradient, check_layer_param_gradient, check_model_gradient\n",
    "from layers import FullyConnectedLayer, ReLULayer\n",
    "from model import TwoLayerNet\n",
    "from trainer import Trainer, Dataset\n",
    "from optim import SGD, MomentumSGD\n",
    "from metrics import multiclass_accuracy"
   ]
  },
  {
   "cell_type": "markdown",
   "metadata": {},
   "source": [
    "# Загружаем данные\n",
    "\n",
    "И разделяем их на training и validation."
   ]
  },
  {
   "cell_type": "code",
   "execution_count": 3,
   "metadata": {},
   "outputs": [
    {
     "name": "stderr",
     "output_type": "stream",
     "text": [
      "C:\\Users\\User\\AppData\\Local\\Temp\\ipykernel_18988\\2810386256.py:2: DeprecationWarning: `np.float` is a deprecated alias for the builtin `float`. To silence this warning, use `float` by itself. Doing this will not modify any behavior and is safe. If you specifically wanted the numpy scalar type, use `np.float64` here.\n",
      "Deprecated in NumPy 1.20; for more details and guidance: https://numpy.org/devdocs/release/1.20.0-notes.html#deprecations\n",
      "  train_flat = train_X.reshape(train_X.shape[0], -1).astype(np.float) / 255.0\n",
      "C:\\Users\\User\\AppData\\Local\\Temp\\ipykernel_18988\\2810386256.py:3: DeprecationWarning: `np.float` is a deprecated alias for the builtin `float`. To silence this warning, use `float` by itself. Doing this will not modify any behavior and is safe. If you specifically wanted the numpy scalar type, use `np.float64` here.\n",
      "Deprecated in NumPy 1.20; for more details and guidance: https://numpy.org/devdocs/release/1.20.0-notes.html#deprecations\n",
      "  test_flat = test_X.reshape(test_X.shape[0], -1).astype(np.float) / 255.0\n"
     ]
    }
   ],
   "source": [
    "def prepare_for_neural_network(train_X, test_X):\n",
    "    train_flat = train_X.reshape(train_X.shape[0], -1).astype(np.float) / 255.0\n",
    "    test_flat = test_X.reshape(test_X.shape[0], -1).astype(np.float) / 255.0\n",
    "    \n",
    "    # Subtract mean\n",
    "    mean_image = np.mean(train_flat, axis = 0)\n",
    "    train_flat -= mean_image\n",
    "    test_flat -= mean_image\n",
    "    \n",
    "    return train_flat, test_flat\n",
    "    \n",
    "train_X, train_y, test_X, test_y = load_svhn(\"data\", max_train=10000, max_test=1000)    \n",
    "train_X, test_X = prepare_for_neural_network(train_X, test_X)\n",
    "# Split train into train and val\n",
    "train_X, train_y, val_X, val_y = random_split_train_val(train_X, train_y, num_val = 1000)"
   ]
  },
  {
   "cell_type": "markdown",
   "metadata": {},
   "source": [
    "# Как всегда, начинаем с кирпичиков\n",
    "\n",
    "Мы будем реализовывать необходимые нам слои по очереди. Каждый слой должен реализовать:\n",
    "- прямой проход (forward pass), который генерирует выход слоя по входу и запоминает необходимые данные\n",
    "- обратный проход (backward pass), который получает градиент по выходу слоя и вычисляет градиент по входу и по параметрам\n",
    "\n",
    "Начнем с ReLU, у которого параметров нет."
   ]
  },
  {
   "cell_type": "code",
   "execution_count": 4,
   "metadata": {
    "scrolled": false
   },
   "outputs": [
    {
     "name": "stdout",
     "output_type": "stream",
     "text": [
      "Gradient check passed!\n"
     ]
    }
   ],
   "source": [
    "# TODO: Implement ReLULayer layer in layers.py\n",
    "# Note: you'll need to copy implementation of the gradient_check function from the previous assignment\n",
    "\n",
    "X = np.array([[1,-2,3],\n",
    "              [-1, 2, 0.1]\n",
    "              ])\n",
    "\n",
    "assert check_layer_gradient(ReLULayer(), X)"
   ]
  },
  {
   "cell_type": "markdown",
   "metadata": {},
   "source": [
    "А теперь реализуем полносвязный слой (fully connected layer), у которого будет два массива параметров: W (weights) и B (bias).\n",
    "\n",
    "Все параметры наши слои будут использовать для параметров специальный класс `Param`, в котором будут храниться значения параметров и градиенты этих параметров, вычисляемые во время обратного прохода.\n",
    "\n",
    "Это даст возможность аккумулировать (суммировать) градиенты из разных частей функции потерь, например, из cross-entropy loss и regularization loss."
   ]
  },
  {
   "cell_type": "code",
   "execution_count": 5,
   "metadata": {},
   "outputs": [
    {
     "name": "stdout",
     "output_type": "stream",
     "text": [
      "Gradient check passed!\n",
      "Gradient check passed!\n",
      "Gradient check passed!\n"
     ]
    }
   ],
   "source": [
    "assert check_layer_gradient(FullyConnectedLayer(3, 4), X)\n",
    "assert check_layer_param_gradient(FullyConnectedLayer(3, 4), X, 'W')\n",
    "assert check_layer_param_gradient(FullyConnectedLayer(3, 4), X, 'B')"
   ]
  },
  {
   "cell_type": "markdown",
   "metadata": {},
   "source": [
    "## Создаем нейронную сеть\n",
    "\n",
    "Теперь мы реализуем простейшую нейронную сеть с двумя полносвязным слоями и нелинейностью ReLU. Реализуйте функцию `compute_loss_and_gradients`, она должна запустить прямой и обратный проход через оба слоя для вычисления градиентов.\n",
    "\n",
    "Не забудьте реализовать очистку градиентов в начале функции."
   ]
  },
  {
   "cell_type": "code",
   "execution_count": 6,
   "metadata": {},
   "outputs": [
    {
     "name": "stdout",
     "output_type": "stream",
     "text": [
      "Checking gradient for layer_0-param_W\n",
      "Gradient check passed!\n",
      "Checking gradient for layer_0-param_B\n",
      "Gradient check passed!\n",
      "Checking gradient for layer_2-param_W\n",
      "Gradient check passed!\n",
      "Checking gradient for layer_2-param_B\n",
      "Gradient check passed!\n"
     ]
    },
    {
     "data": {
      "text/plain": [
       "True"
      ]
     },
     "execution_count": 6,
     "metadata": {},
     "output_type": "execute_result"
    }
   ],
   "source": [
    "# TODO: In model.py, implement compute_loss_and_gradients function\n",
    "model = TwoLayerNet(n_input = train_X.shape[1], n_output = 10, hidden_layer_size = 3, reg = 0)\n",
    "loss = model.compute_loss_and_gradients(train_X[:2], train_y[:2])\n",
    "\n",
    "# TODO Now implement backward pass and aggregate all of the params\n",
    "check_model_gradient(model, train_X[:2], train_y[:2])"
   ]
  },
  {
   "cell_type": "markdown",
   "metadata": {},
   "source": [
    "Теперь добавьте к модели регуляризацию - она должна прибавляться к loss и делать свой вклад в градиенты."
   ]
  },
  {
   "cell_type": "code",
   "execution_count": 7,
   "metadata": {},
   "outputs": [
    {
     "name": "stdout",
     "output_type": "stream",
     "text": [
      "Checking gradient for layer_0-param_W\n",
      "Gradient check passed!\n",
      "Checking gradient for layer_0-param_B\n",
      "Gradient check passed!\n",
      "Checking gradient for layer_2-param_W\n",
      "Gradient check passed!\n",
      "Checking gradient for layer_2-param_B\n",
      "Gradient check passed!\n"
     ]
    },
    {
     "data": {
      "text/plain": [
       "True"
      ]
     },
     "execution_count": 7,
     "metadata": {},
     "output_type": "execute_result"
    }
   ],
   "source": [
    "# TODO Now implement l2 regularization in the forward and backward pass\n",
    "model_with_reg = TwoLayerNet(n_input = train_X.shape[1], n_output = 10, hidden_layer_size = 3, reg = 1e1)\n",
    "loss_with_reg = model_with_reg.compute_loss_and_gradients(train_X[:2], train_y[:2])\n",
    "assert loss_with_reg > loss and not np.isclose(loss_with_reg, loss), \\\n",
    "    \"Loss with regularization (%2.4f) should be higher than without it (%2.4f)!\" % (loss, loss_with_reg)\n",
    "\n",
    "check_model_gradient(model_with_reg, train_X[:2], train_y[:2])"
   ]
  },
  {
   "cell_type": "markdown",
   "metadata": {},
   "source": [
    "Также реализуем функцию предсказания (вычисления значения) модели на новых данных.\n",
    "\n",
    "Какое значение точности мы ожидаем увидеть до начала тренировки?"
   ]
  },
  {
   "cell_type": "code",
   "execution_count": 8,
   "metadata": {},
   "outputs": [
    {
     "data": {
      "text/plain": [
       "0.1"
      ]
     },
     "execution_count": 8,
     "metadata": {},
     "output_type": "execute_result"
    }
   ],
   "source": [
    "# Finally, implement predict function!\n",
    "\n",
    "# TODO: Implement predict function\n",
    "# What would be the value we expect?\n",
    "multiclass_accuracy(model_with_reg.predict(train_X[:30]), train_y[:30]) "
   ]
  },
  {
   "cell_type": "markdown",
   "metadata": {},
   "source": [
    "# Допишем код для процесса тренировки\n",
    "\n",
    "Если все реализовано корректно, значение функции ошибки должно уменьшаться с каждой эпохой, пусть и медленно. Не беспокойтесь пока про validation accuracy."
   ]
  },
  {
   "cell_type": "code",
   "execution_count": 9,
   "metadata": {},
   "outputs": [
    {
     "name": "stdout",
     "output_type": "stream",
     "text": [
      "Loss: 1.9814635308484831, Train accuracy: 0.2281111111111111, val accuracy: 0.251\n",
      "Loss: 1.801772606745695, Train accuracy: 0.4102222222222222, val accuracy: 0.423\n",
      "Loss: 1.284124797746332, Train accuracy: 0.5153333333333333, val accuracy: 0.524\n",
      "Loss: 1.3426807652834627, Train accuracy: 0.601, val accuracy: 0.577\n",
      "Loss: 1.2606552069999473, Train accuracy: 0.6642222222222223, val accuracy: 0.636\n",
      "Loss: 0.7700744253278117, Train accuracy: 0.706, val accuracy: 0.671\n",
      "Loss: 0.9568784231560628, Train accuracy: 0.693, val accuracy: 0.673\n",
      "Loss: 0.8396282038013484, Train accuracy: 0.7176666666666667, val accuracy: 0.675\n",
      "Loss: 1.291717965261554, Train accuracy: 0.7191111111111111, val accuracy: 0.682\n",
      "Loss: 0.939299126695746, Train accuracy: 0.7138888888888889, val accuracy: 0.679\n",
      "Loss: 1.4469086263182596, Train accuracy: 0.7572222222222222, val accuracy: 0.709\n",
      "Loss: 1.1240427567234075, Train accuracy: 0.7543333333333333, val accuracy: 0.721\n",
      "Loss: 1.0354673874731795, Train accuracy: 0.7663333333333333, val accuracy: 0.709\n",
      "Loss: 1.1802587587886455, Train accuracy: 0.762, val accuracy: 0.705\n",
      "Loss: 1.1813043148318663, Train accuracy: 0.7518888888888889, val accuracy: 0.717\n",
      "Loss: 1.1556692041536576, Train accuracy: 0.7428888888888889, val accuracy: 0.695\n",
      "Loss: 1.3165038826113573, Train accuracy: 0.7965555555555556, val accuracy: 0.72\n",
      "Loss: 1.4774855996099663, Train accuracy: 0.7174444444444444, val accuracy: 0.668\n",
      "Loss: 1.1250097330282451, Train accuracy: 0.7964444444444444, val accuracy: 0.723\n",
      "Loss: 1.6968771722370402, Train accuracy: 0.8087777777777778, val accuracy: 0.719\n"
     ]
    }
   ],
   "source": [
    "model = TwoLayerNet(n_input = train_X.shape[1], n_output = 10, hidden_layer_size = 100, reg = 0.001)\n",
    "dataset = Dataset(train_X, train_y, val_X, val_y)\n",
    "trainer = Trainer(model, dataset, SGD(), learning_rate = 1e-1)\n",
    "\n",
    "# TODO Implement missing pieces in Trainer.fit function\n",
    "# You should expect loss to go down every epoch, even if it's slow\n",
    "loss_history, train_history, val_history = trainer.fit()"
   ]
  },
  {
   "cell_type": "code",
   "execution_count": 10,
   "metadata": {},
   "outputs": [
    {
     "data": {
      "text/plain": [
       "[<matplotlib.lines.Line2D at 0x2072aca85b0>]"
      ]
     },
     "execution_count": 10,
     "metadata": {},
     "output_type": "execute_result"
    },
    {
     "data": {
      "image/png": "[encoded data removed]",
      "text/plain": [
       "<Figure size 432x288 with 1 Axes>"
      ]
     },
     "metadata": {
      "needs_background": "light"
     },
     "output_type": "display_data"
    }
   ],
   "source": [
    "plt.plot(train_history)\n",
    "plt.plot(val_history)"
   ]
  },
  {
   "cell_type": "markdown",
   "metadata": {},
   "source": [
    "# Улучшаем процесс тренировки\n",
    "\n",
    "Мы реализуем несколько ключевых оптимизаций, необходимых для тренировки современных нейросетей."
   ]
  },
  {
   "cell_type": "markdown",
   "metadata": {},
   "source": [
    "## Уменьшение скорости обучения (learning rate decay)\n",
    "\n",
    "Одна из необходимых оптимизаций во время тренировки нейронных сетей - постепенное уменьшение скорости обучения по мере тренировки.\n",
    "\n",
    "Один из стандартных методов - уменьшение скорости обучения (learning rate) каждые N эпох на коэффициент d (часто называемый decay). Значения N и d, как всегда, являются гиперпараметрами и должны подбираться на основе эффективности на проверочных данных (validation data). \n",
    "\n",
    "В нашем случае N будет равным 1."
   ]
  },
  {
   "cell_type": "code",
   "execution_count": 11,
   "metadata": {},
   "outputs": [
    {
     "name": "stdout",
     "output_type": "stream",
     "text": [
      "Loss: 2.1565279193147395, Train accuracy: 0.2361111111111111, val accuracy: 0.25\n",
      "Loss: 2.0769231141807842, Train accuracy: 0.42477777777777775, val accuracy: 0.419\n",
      "Loss: 1.7563064310547212, Train accuracy: 0.5245555555555556, val accuracy: 0.531\n",
      "Loss: 1.0389262016426584, Train accuracy: 0.6245555555555555, val accuracy: 0.618\n",
      "Loss: 1.3630262315892567, Train accuracy: 0.6703333333333333, val accuracy: 0.644\n",
      "Loss: 1.8489081818523507, Train accuracy: 0.6845555555555556, val accuracy: 0.668\n",
      "Loss: 1.1389321558205816, Train accuracy: 0.7155555555555555, val accuracy: 0.706\n",
      "Loss: 1.256858423800921, Train accuracy: 0.7181111111111111, val accuracy: 0.679\n",
      "Loss: 1.7418268816607143, Train accuracy: 0.7386666666666667, val accuracy: 0.691\n",
      "Loss: 0.9884635205839502, Train accuracy: 0.7495555555555555, val accuracy: 0.705\n",
      "Loss: 0.912017965580608, Train accuracy: 0.7417777777777778, val accuracy: 0.7\n",
      "Loss: 0.7263978688672693, Train accuracy: 0.7578888888888888, val accuracy: 0.712\n",
      "Loss: 1.607667225149207, Train accuracy: 0.7631111111111111, val accuracy: 0.699\n",
      "Loss: 0.8395688110528553, Train accuracy: 0.7848888888888889, val accuracy: 0.717\n",
      "Loss: 1.1174470084449326, Train accuracy: 0.7898888888888889, val accuracy: 0.714\n",
      "Loss: 1.3510348627297906, Train accuracy: 0.7543333333333333, val accuracy: 0.691\n",
      "Loss: 0.9520269855007982, Train accuracy: 0.7868888888888889, val accuracy: 0.721\n",
      "Loss: 0.9227528096765742, Train accuracy: 0.8224444444444444, val accuracy: 0.741\n",
      "Loss: 0.9327170024363016, Train accuracy: 0.807, val accuracy: 0.73\n",
      "Loss: 0.9738770515174455, Train accuracy: 0.823, val accuracy: 0.721\n"
     ]
    }
   ],
   "source": [
    "# TODO Implement learning rate decay inside Trainer.fit method\n",
    "# Decay should happen once per epoch\n",
    "\n",
    "model = TwoLayerNet(n_input = train_X.shape[1], n_output = 10, hidden_layer_size = 100, reg = 0.001)\n",
    "dataset = Dataset(train_X, train_y, val_X, val_y)\n",
    "trainer = Trainer(model, dataset, SGD(), learning_rate = 1e-1, learning_rate_decay=0.99)\n",
    "\n",
    "initial_learning_rate = trainer.learning_rate\n",
    "loss_history, train_history, val_history = trainer.fit()\n",
    "\n",
    "assert trainer.learning_rate < initial_learning_rate, \"Learning rate should've been reduced\"\n",
    "assert trainer.learning_rate > 0.5*initial_learning_rate, \"Learning rate shouldn'tve been reduced that much!\""
   ]
  },
  {
   "cell_type": "markdown",
   "metadata": {},
   "source": [
    "# Накопление импульса (Momentum SGD)\n",
    "\n",
    "Другой большой класс оптимизаций - использование более эффективных методов градиентного спуска. Мы реализуем один из них - накопление импульса (Momentum SGD).\n",
    "\n",
    "Этот метод хранит скорость движения, использует градиент для ее изменения на каждом шаге, и изменяет веса пропорционально значению скорости.\n",
    "(Физическая аналогия: Вместо скорости градиенты теперь будут задавать ускорение, но будет присутствовать сила трения.)\n",
    "\n",
    "```\n",
    "velocity = momentum * velocity - learning_rate * gradient \n",
    "w = w + velocity\n",
    "```\n",
    "\n",
    "`momentum` здесь коэффициент затухания, который тоже является гиперпараметром (к счастью, для него часто есть хорошее значение по умолчанию, типичный диапазон -- 0.8-0.99).\n",
    "\n",
    "Несколько полезных ссылок, где метод разбирается более подробно:  \n",
    "http://cs231n.github.io/neural-networks-3/#sgd  \n",
    "https://distill.pub/2017/momentum/"
   ]
  },
  {
   "cell_type": "code",
   "execution_count": 12,
   "metadata": {},
   "outputs": [
    {
     "name": "stdout",
     "output_type": "stream",
     "text": [
      "Loss: 2.252894232746485, Train accuracy: 0.19666666666666666, val accuracy: 0.206\n",
      "Loss: 2.1979636869281958, Train accuracy: 0.19666666666666666, val accuracy: 0.206\n",
      "Loss: 2.3152937427197036, Train accuracy: 0.19666666666666666, val accuracy: 0.206\n",
      "Loss: 2.0044765100979554, Train accuracy: 0.19666666666666666, val accuracy: 0.206\n",
      "Loss: 2.0909211138267443, Train accuracy: 0.19666666666666666, val accuracy: 0.206\n",
      "Loss: 2.321708451206194, Train accuracy: 0.19666666666666666, val accuracy: 0.206\n",
      "Loss: 2.0960804157082986, Train accuracy: 0.19666666666666666, val accuracy: 0.206\n",
      "Loss: 2.174661998490569, Train accuracy: 0.19666666666666666, val accuracy: 0.206\n",
      "Loss: 2.104532828015252, Train accuracy: 0.19833333333333333, val accuracy: 0.209\n",
      "Loss: 2.1243251738954387, Train accuracy: 0.2228888888888889, val accuracy: 0.226\n",
      "Loss: 2.0453114606089713, Train accuracy: 0.25166666666666665, val accuracy: 0.256\n",
      "Loss: 2.103845773078291, Train accuracy: 0.2617777777777778, val accuracy: 0.261\n",
      "Loss: 1.8133908700819532, Train accuracy: 0.27366666666666667, val accuracy: 0.27\n",
      "Loss: 2.0397358018125606, Train accuracy: 0.28833333333333333, val accuracy: 0.292\n",
      "Loss: 1.934479744697332, Train accuracy: 0.31622222222222224, val accuracy: 0.325\n",
      "Loss: 1.8589542000015855, Train accuracy: 0.34255555555555556, val accuracy: 0.34\n",
      "Loss: 1.888880182512617, Train accuracy: 0.37077777777777776, val accuracy: 0.363\n",
      "Loss: 1.6119967994461715, Train accuracy: 0.39011111111111113, val accuracy: 0.388\n",
      "Loss: 1.7278636928728854, Train accuracy: 0.4121111111111111, val accuracy: 0.407\n",
      "Loss: 1.8152721928535345, Train accuracy: 0.43655555555555553, val accuracy: 0.422\n"
     ]
    }
   ],
   "source": [
    "# TODO: Implement MomentumSGD.update function in optim.py\n",
    "\n",
    "model = TwoLayerNet(n_input = train_X.shape[1], n_output = 10, hidden_layer_size = 100, reg = 0.001)\n",
    "dataset = Dataset(train_X, train_y, val_X, val_y)\n",
    "trainer = Trainer(model, dataset, MomentumSGD(), learning_rate=1e-3, learning_rate_decay=0.99)\n",
    "\n",
    "# You should see even better results than before!\n",
    "loss_history, train_history, val_history = trainer.fit()"
   ]
  },
  {
   "cell_type": "markdown",
   "metadata": {},
   "source": [
    "# Ну что, давайте уже тренировать сеть!"
   ]
  },
  {
   "cell_type": "markdown",
   "metadata": {},
   "source": [
    "## Последний тест - переобучимся (overfit) на маленьком наборе данных\n",
    "\n",
    "Хороший способ проверить, все ли реализовано корректно - переобучить сеть на маленьком наборе данных.  \n",
    "Наша модель обладает достаточной мощностью, чтобы приблизить маленький набор данных идеально, поэтому мы ожидаем, что на нем мы быстро дойдем до 100% точности на тренировочном наборе. \n",
    "\n",
    "Если этого не происходит, то где-то была допущена ошибка!"
   ]
  },
  {
   "cell_type": "code",
   "execution_count": 13,
   "metadata": {},
   "outputs": [
    {
     "name": "stdout",
     "output_type": "stream",
     "text": [
      "Loss: 2.326206818200539, Train accuracy: 0.3333333333333333, val accuracy: 0.0\n",
      "Loss: 2.29631063563037, Train accuracy: 0.2, val accuracy: 0.13333333333333333\n",
      "Loss: 2.2720284184521975, Train accuracy: 0.2, val accuracy: 0.13333333333333333\n",
      "Loss: 2.324880494085443, Train accuracy: 0.2, val accuracy: 0.13333333333333333\n",
      "Loss: 2.2865367180335805, Train accuracy: 0.2, val accuracy: 0.06666666666666667\n",
      "Loss: 2.303685591526646, Train accuracy: 0.2, val accuracy: 0.06666666666666667\n",
      "Loss: 2.2105651947660148, Train accuracy: 0.26666666666666666, val accuracy: 0.06666666666666667\n",
      "Loss: 2.1175073003982203, Train accuracy: 0.4, val accuracy: 0.0\n",
      "Loss: 1.9995371957291996, Train accuracy: 0.4, val accuracy: 0.0\n",
      "Loss: 1.778502621499459, Train accuracy: 0.4, val accuracy: 0.0\n",
      "Loss: 1.660829614944799, Train accuracy: 0.4, val accuracy: 0.0\n",
      "Loss: 2.0237484460804525, Train accuracy: 0.4, val accuracy: 0.0\n",
      "Loss: 1.4626405852246045, Train accuracy: 0.4, val accuracy: 0.0\n",
      "Loss: 2.065327576485454, Train accuracy: 0.4, val accuracy: 0.0\n",
      "Loss: 1.741439669541506, Train accuracy: 0.4, val accuracy: 0.0\n",
      "Loss: 1.4215212154642052, Train accuracy: 0.4, val accuracy: 0.0\n",
      "Loss: 1.7958278203145825, Train accuracy: 0.4666666666666667, val accuracy: 0.0\n",
      "Loss: 1.1354805627456688, Train accuracy: 0.4, val accuracy: 0.0\n",
      "Loss: 1.2666571969967215, Train accuracy: 0.4666666666666667, val accuracy: 0.06666666666666667\n",
      "Loss: 1.4831212852265145, Train accuracy: 0.4666666666666667, val accuracy: 0.0\n",
      "Loss: 1.6872508860532864, Train accuracy: 0.4666666666666667, val accuracy: 0.0\n",
      "Loss: 1.218038671318719, Train accuracy: 0.4666666666666667, val accuracy: 0.06666666666666667\n",
      "Loss: 1.6460130924857226, Train accuracy: 0.4666666666666667, val accuracy: 0.06666666666666667\n",
      "Loss: 1.4466565412769847, Train accuracy: 0.5333333333333333, val accuracy: 0.06666666666666667\n",
      "Loss: 0.8711258929318214, Train accuracy: 0.6, val accuracy: 0.06666666666666667\n",
      "Loss: 1.5946815175820321, Train accuracy: 0.6, val accuracy: 0.06666666666666667\n",
      "Loss: 1.0491809536494503, Train accuracy: 0.6666666666666666, val accuracy: 0.06666666666666667\n",
      "Loss: 1.5907690367580525, Train accuracy: 0.6666666666666666, val accuracy: 0.06666666666666667\n",
      "Loss: 1.5534977802617902, Train accuracy: 0.6666666666666666, val accuracy: 0.0\n",
      "Loss: 0.7763338709278255, Train accuracy: 0.6666666666666666, val accuracy: 0.06666666666666667\n",
      "Loss: 0.995494482594098, Train accuracy: 0.7333333333333333, val accuracy: 0.06666666666666667\n",
      "Loss: 0.9892949872766993, Train accuracy: 0.7333333333333333, val accuracy: 0.06666666666666667\n",
      "Loss: 0.937669612636834, Train accuracy: 0.7333333333333333, val accuracy: 0.06666666666666667\n",
      "Loss: 1.1113741835904132, Train accuracy: 0.8, val accuracy: 0.13333333333333333\n",
      "Loss: 0.8848255650859583, Train accuracy: 0.7333333333333333, val accuracy: 0.06666666666666667\n",
      "Loss: 1.086325175882384, Train accuracy: 0.8, val accuracy: 0.06666666666666667\n",
      "Loss: 0.37998888543565207, Train accuracy: 0.8, val accuracy: 0.06666666666666667\n",
      "Loss: 0.6629787389251202, Train accuracy: 0.8, val accuracy: 0.13333333333333333\n",
      "Loss: 0.993126426883763, Train accuracy: 0.8, val accuracy: 0.06666666666666667\n",
      "Loss: 1.2369504607469404, Train accuracy: 0.8, val accuracy: 0.06666666666666667\n",
      "Loss: 1.0814300021385954, Train accuracy: 0.8, val accuracy: 0.06666666666666667\n",
      "Loss: 0.46663230990399474, Train accuracy: 0.8, val accuracy: 0.06666666666666667\n",
      "Loss: 0.888897151243839, Train accuracy: 0.8, val accuracy: 0.06666666666666667\n",
      "Loss: 0.5314517895881974, Train accuracy: 0.8, val accuracy: 0.06666666666666667\n",
      "Loss: 0.5711701283197186, Train accuracy: 0.8666666666666667, val accuracy: 0.06666666666666667\n",
      "Loss: 0.4936216979212417, Train accuracy: 0.8666666666666667, val accuracy: 0.06666666666666667\n",
      "Loss: 0.5106798775861578, Train accuracy: 0.8666666666666667, val accuracy: 0.06666666666666667\n",
      "Loss: 0.46031550540622096, Train accuracy: 0.9333333333333333, val accuracy: 0.06666666666666667\n",
      "Loss: 0.8050876722274276, Train accuracy: 0.9333333333333333, val accuracy: 0.06666666666666667\n",
      "Loss: 0.4110521504850573, Train accuracy: 1.0, val accuracy: 0.06666666666666667\n",
      "Loss: 0.6074107822568571, Train accuracy: 1.0, val accuracy: 0.06666666666666667\n",
      "Loss: 0.6134440449028122, Train accuracy: 1.0, val accuracy: 0.06666666666666667\n",
      "Loss: 0.675324952968797, Train accuracy: 1.0, val accuracy: 0.06666666666666667\n",
      "Loss: 0.6912089042299747, Train accuracy: 1.0, val accuracy: 0.06666666666666667\n",
      "Loss: 0.4919135803001192, Train accuracy: 1.0, val accuracy: 0.06666666666666667\n",
      "Loss: 0.6121610708560821, Train accuracy: 1.0, val accuracy: 0.06666666666666667\n",
      "Loss: 0.22770824394660003, Train accuracy: 1.0, val accuracy: 0.06666666666666667\n",
      "Loss: 0.20253345123975638, Train accuracy: 1.0, val accuracy: 0.06666666666666667\n",
      "Loss: 0.41527220641269724, Train accuracy: 1.0, val accuracy: 0.06666666666666667\n",
      "Loss: 0.2234312400347423, Train accuracy: 1.0, val accuracy: 0.06666666666666667\n",
      "Loss: 0.5113028716563298, Train accuracy: 1.0, val accuracy: 0.0\n",
      "Loss: 0.344277731541061, Train accuracy: 1.0, val accuracy: 0.0\n",
      "Loss: 0.2655552598664772, Train accuracy: 1.0, val accuracy: 0.0\n",
      "Loss: 0.285536710153799, Train accuracy: 1.0, val accuracy: 0.0\n",
      "Loss: 0.34475858570873186, Train accuracy: 1.0, val accuracy: 0.0\n",
      "Loss: 0.25570046874461266, Train accuracy: 1.0, val accuracy: 0.0\n",
      "Loss: 0.24735755614420973, Train accuracy: 1.0, val accuracy: 0.0\n",
      "Loss: 0.21051035122805986, Train accuracy: 1.0, val accuracy: 0.0\n",
      "Loss: 0.2409534916446331, Train accuracy: 1.0, val accuracy: 0.0\n",
      "Loss: 0.30253382889828356, Train accuracy: 1.0, val accuracy: 0.0\n",
      "Loss: 0.26783870712251556, Train accuracy: 1.0, val accuracy: 0.0\n",
      "Loss: 0.25374947938957376, Train accuracy: 1.0, val accuracy: 0.0\n",
      "Loss: 0.2528704327668167, Train accuracy: 1.0, val accuracy: 0.0\n",
      "Loss: 0.25606827359681034, Train accuracy: 1.0, val accuracy: 0.0\n",
      "Loss: 0.24126986388782, Train accuracy: 1.0, val accuracy: 0.0\n",
      "Loss: 0.27016687349655977, Train accuracy: 1.0, val accuracy: 0.0\n",
      "Loss: 0.27332893241243184, Train accuracy: 1.0, val accuracy: 0.0\n",
      "Loss: 0.2518155970708767, Train accuracy: 1.0, val accuracy: 0.0\n",
      "Loss: 0.21776355974278094, Train accuracy: 1.0, val accuracy: 0.0\n",
      "Loss: 0.2707639185166991, Train accuracy: 1.0, val accuracy: 0.0\n",
      "Loss: 0.2564917480010349, Train accuracy: 1.0, val accuracy: 0.0\n",
      "Loss: 0.22701194453881557, Train accuracy: 1.0, val accuracy: 0.0\n",
      "Loss: 0.23451372381940755, Train accuracy: 1.0, val accuracy: 0.0\n",
      "Loss: 0.23980844761702297, Train accuracy: 1.0, val accuracy: 0.0\n",
      "Loss: 0.21234513956303844, Train accuracy: 1.0, val accuracy: 0.0\n",
      "Loss: 0.2292741962510484, Train accuracy: 1.0, val accuracy: 0.0\n",
      "Loss: 0.21699725988770246, Train accuracy: 1.0, val accuracy: 0.0\n",
      "Loss: 0.21629879682219044, Train accuracy: 1.0, val accuracy: 0.0\n",
      "Loss: 0.22940507360951545, Train accuracy: 1.0, val accuracy: 0.0\n",
      "Loss: 0.2540149743278964, Train accuracy: 1.0, val accuracy: 0.0\n",
      "Loss: 0.22929506409267322, Train accuracy: 1.0, val accuracy: 0.0\n",
      "Loss: 0.24022762551380356, Train accuracy: 1.0, val accuracy: 0.0\n",
      "Loss: 0.23393215955645713, Train accuracy: 1.0, val accuracy: 0.0\n",
      "Loss: 0.22594291185079884, Train accuracy: 1.0, val accuracy: 0.0\n",
      "Loss: 0.2374869915413454, Train accuracy: 1.0, val accuracy: 0.0\n",
      "Loss: 0.23213119116781614, Train accuracy: 1.0, val accuracy: 0.0\n",
      "Loss: 0.21813582796996475, Train accuracy: 1.0, val accuracy: 0.0\n",
      "Loss: 0.25155625672284426, Train accuracy: 1.0, val accuracy: 0.0\n",
      "Loss: 0.2299921922077373, Train accuracy: 1.0, val accuracy: 0.0\n",
      "Loss: 0.2275452630711186, Train accuracy: 1.0, val accuracy: 0.0\n",
      "Loss: 0.24037583006821706, Train accuracy: 1.0, val accuracy: 0.0\n",
      "Loss: 0.2189191463427212, Train accuracy: 1.0, val accuracy: 0.0\n",
      "Loss: 0.25021103805821865, Train accuracy: 1.0, val accuracy: 0.0\n",
      "Loss: 0.2146177506001929, Train accuracy: 1.0, val accuracy: 0.0\n",
      "Loss: 0.23043105936386493, Train accuracy: 1.0, val accuracy: 0.0\n",
      "Loss: 0.22840670166232996, Train accuracy: 1.0, val accuracy: 0.0\n",
      "Loss: 0.2265858002673798, Train accuracy: 1.0, val accuracy: 0.0\n",
      "Loss: 0.2462582652085769, Train accuracy: 1.0, val accuracy: 0.0\n",
      "Loss: 0.22182363137775488, Train accuracy: 1.0, val accuracy: 0.0\n",
      "Loss: 0.21824823790492298, Train accuracy: 1.0, val accuracy: 0.0\n",
      "Loss: 0.23815397795996662, Train accuracy: 1.0, val accuracy: 0.0\n",
      "Loss: 0.2195673572790792, Train accuracy: 1.0, val accuracy: 0.0\n",
      "Loss: 0.20898631649080407, Train accuracy: 1.0, val accuracy: 0.0\n",
      "Loss: 0.22473233404822573, Train accuracy: 1.0, val accuracy: 0.0\n"
     ]
    },
    {
     "name": "stdout",
     "output_type": "stream",
     "text": [
      "Loss: 0.22907423075525812, Train accuracy: 1.0, val accuracy: 0.0\n",
      "Loss: 0.2244105782006341, Train accuracy: 1.0, val accuracy: 0.0\n",
      "Loss: 0.23379583801372167, Train accuracy: 1.0, val accuracy: 0.0\n",
      "Loss: 0.2279164035135625, Train accuracy: 1.0, val accuracy: 0.0\n",
      "Loss: 0.23922239153591546, Train accuracy: 1.0, val accuracy: 0.0\n",
      "Loss: 0.23945323072968483, Train accuracy: 1.0, val accuracy: 0.0\n",
      "Loss: 0.2182046652383408, Train accuracy: 1.0, val accuracy: 0.0\n",
      "Loss: 0.24064632609077677, Train accuracy: 1.0, val accuracy: 0.0\n",
      "Loss: 0.20906246201386702, Train accuracy: 1.0, val accuracy: 0.0\n",
      "Loss: 0.23636796498030754, Train accuracy: 1.0, val accuracy: 0.0\n",
      "Loss: 0.21918127055125525, Train accuracy: 1.0, val accuracy: 0.0\n",
      "Loss: 0.21200269331870203, Train accuracy: 1.0, val accuracy: 0.0\n",
      "Loss: 0.21383307558715287, Train accuracy: 1.0, val accuracy: 0.0\n",
      "Loss: 0.2058996204251139, Train accuracy: 1.0, val accuracy: 0.0\n",
      "Loss: 0.2023605017396565, Train accuracy: 1.0, val accuracy: 0.0\n",
      "Loss: 0.24165695223951023, Train accuracy: 1.0, val accuracy: 0.0\n",
      "Loss: 0.23736242370169597, Train accuracy: 1.0, val accuracy: 0.0\n",
      "Loss: 0.22899944388604765, Train accuracy: 1.0, val accuracy: 0.0\n",
      "Loss: 0.21050140995627684, Train accuracy: 1.0, val accuracy: 0.0\n",
      "Loss: 0.2108757056529852, Train accuracy: 1.0, val accuracy: 0.0\n",
      "Loss: 0.21315191889178223, Train accuracy: 1.0, val accuracy: 0.0\n",
      "Loss: 0.22026657100599198, Train accuracy: 1.0, val accuracy: 0.0\n",
      "Loss: 0.2130642484418827, Train accuracy: 1.0, val accuracy: 0.0\n",
      "Loss: 0.225452535186637, Train accuracy: 1.0, val accuracy: 0.0\n",
      "Loss: 0.22146487118582103, Train accuracy: 1.0, val accuracy: 0.0\n",
      "Loss: 0.20533705834491034, Train accuracy: 1.0, val accuracy: 0.0\n",
      "Loss: 0.22789413294138022, Train accuracy: 1.0, val accuracy: 0.0\n",
      "Loss: 0.22053195461159128, Train accuracy: 1.0, val accuracy: 0.0\n",
      "Loss: 0.21566528779242367, Train accuracy: 1.0, val accuracy: 0.0\n",
      "Loss: 0.22804845277611493, Train accuracy: 1.0, val accuracy: 0.0\n",
      "Loss: 0.21721059174354768, Train accuracy: 1.0, val accuracy: 0.0\n",
      "Loss: 0.22854700497823122, Train accuracy: 1.0, val accuracy: 0.0\n",
      "Loss: 0.22111199512148644, Train accuracy: 1.0, val accuracy: 0.0\n",
      "Loss: 0.22253558149046737, Train accuracy: 1.0, val accuracy: 0.0\n",
      "Loss: 0.22783828488049196, Train accuracy: 1.0, val accuracy: 0.0\n",
      "Loss: 0.22535606997983615, Train accuracy: 1.0, val accuracy: 0.0\n"
     ]
    }
   ],
   "source": [
    "data_size = 15\n",
    "model = TwoLayerNet(n_input = train_X.shape[1], n_output = 10, hidden_layer_size = 100, reg = 1e-2)\n",
    "dataset = Dataset(train_X[:data_size], train_y[:data_size], val_X[:data_size], val_y[:data_size])\n",
    "trainer = Trainer(model, dataset, SGD(), learning_rate=1e-1, num_epochs=150, batch_size=5)\n",
    "\n",
    "# You should expect this to reach 1.0 training accuracy \n",
    "loss_history, train_history, val_history = trainer.fit()"
   ]
  },
  {
   "cell_type": "markdown",
   "metadata": {},
   "source": [
    "Теперь найдем гипепараметры, для которых этот процесс сходится быстрее.\n",
    "Если все реализовано корректно, то существуют параметры, при которых процесс сходится в **20** эпох или еще быстрее.\n",
    "Найдите их!"
   ]
  },
  {
   "cell_type": "code",
   "execution_count": 14,
   "metadata": {},
   "outputs": [
    {
     "name": "stdout",
     "output_type": "stream",
     "text": [
      "Loss: 2.3061982682356623, Train accuracy: 0.2, val accuracy: 0.13333333333333333\n",
      "Loss: 2.279207978572889, Train accuracy: 0.2, val accuracy: 0.06666666666666667\n",
      "Loss: 2.150635274150046, Train accuracy: 0.4, val accuracy: 0.0\n",
      "Loss: 2.2380632953116755, Train accuracy: 0.4, val accuracy: 0.0\n",
      "Loss: 2.2914123246385096, Train accuracy: 0.3333333333333333, val accuracy: 0.06666666666666667\n",
      "Loss: 2.0674230192722476, Train accuracy: 0.4, val accuracy: 0.0\n",
      "Loss: 1.6396835257980102, Train accuracy: 0.4, val accuracy: 0.0\n",
      "Loss: 1.5537047416078944, Train accuracy: 0.4666666666666667, val accuracy: 0.13333333333333333\n",
      "Loss: 1.8294812869022208, Train accuracy: 0.3333333333333333, val accuracy: 0.0\n",
      "Loss: 1.9491447987632897, Train accuracy: 0.4, val accuracy: 0.06666666666666667\n",
      "Loss: 2.025706347758715, Train accuracy: 0.6, val accuracy: 0.0\n",
      "Loss: 1.2484960027414984, Train accuracy: 0.6, val accuracy: 0.0\n",
      "Loss: 1.2399355704453257, Train accuracy: 0.6, val accuracy: 0.0\n",
      "Loss: 0.8962765463391493, Train accuracy: 0.6666666666666666, val accuracy: 0.06666666666666667\n",
      "Loss: 0.7618905333985779, Train accuracy: 0.7333333333333333, val accuracy: 0.0\n",
      "Loss: 0.6591566453019361, Train accuracy: 0.7333333333333333, val accuracy: 0.0\n",
      "Loss: 0.641797127429646, Train accuracy: 0.8666666666666667, val accuracy: 0.0\n",
      "Loss: 0.6510867766184094, Train accuracy: 1.0, val accuracy: 0.0\n",
      "Loss: 0.7191065605299585, Train accuracy: 1.0, val accuracy: 0.0\n",
      "Loss: 0.2547111829557935, Train accuracy: 1.0, val accuracy: 0.0\n"
     ]
    }
   ],
   "source": [
    "# Now, tweak some hyper parameters and make it train to 1.0 accuracy in 20 epochs or less\n",
    "\n",
    "model = TwoLayerNet(n_input = train_X.shape[1], n_output = 10, hidden_layer_size = 100, reg = 1e-2)\n",
    "dataset = Dataset(train_X[:data_size], train_y[:data_size], val_X[:data_size], val_y[:data_size])\n",
    "# TODO: Change any hyperparamers or optimizators to reach training accuracy in 20 epochs\n",
    "trainer = Trainer(model, dataset, SGD(), learning_rate=0.3, num_epochs=20, batch_size=5)\n",
    "\n",
    "loss_history, train_history, val_history = trainer.fit()"
   ]
  },
  {
   "cell_type": "markdown",
   "metadata": {},
   "source": [
    "# Итак, основное мероприятие!\n",
    "\n",
    "Натренируйте лучшую нейросеть! Можно добавлять и изменять параметры, менять количество нейронов в слоях сети и как угодно экспериментировать. \n",
    "\n",
    "Добейтесь точности лучше **60%** на validation set."
   ]
  },
  {
   "cell_type": "code",
   "execution_count": 15,
   "metadata": {
    "scrolled": true
   },
   "outputs": [
    {
     "name": "stdout",
     "output_type": "stream",
     "text": [
      "Loss: 1.9311947783175234, Train accuracy: 0.3471111111111111, val accuracy: 0.353\n",
      "Loss: 2.011920517488697, Train accuracy: 0.5353333333333333, val accuracy: 0.513\n",
      "Loss: 1.6752370083089563, Train accuracy: 0.6102222222222222, val accuracy: 0.595\n",
      "Loss: 1.9242394876848588, Train accuracy: 0.5726666666666667, val accuracy: 0.545\n",
      "Loss: 1.6105578060707504, Train accuracy: 0.6058888888888889, val accuracy: 0.59\n",
      "Loss: 1.7523265167238582, Train accuracy: 0.5946666666666667, val accuracy: 0.573\n",
      "Loss: 1.98860366620159, Train accuracy: 0.6367777777777778, val accuracy: 0.607\n",
      "Loss: 1.6298760679465256, Train accuracy: 0.6216666666666667, val accuracy: 0.589\n",
      "Loss: 1.812504763539223, Train accuracy: 0.6626666666666666, val accuracy: 0.624\n",
      "Loss: 1.6022560655911773, Train accuracy: 0.6545555555555556, val accuracy: 0.618\n",
      "Loss: 1.8563973052133473, Train accuracy: 0.6502222222222223, val accuracy: 0.612\n",
      "Loss: 1.2119031152486335, Train accuracy: 0.6287777777777778, val accuracy: 0.604\n",
      "Loss: 2.354530968262121, Train accuracy: 0.6237777777777778, val accuracy: 0.611\n",
      "Loss: 2.2372545858110553, Train accuracy: 0.6696666666666666, val accuracy: 0.626\n",
      "Loss: 1.5000800922531434, Train accuracy: 0.6543333333333333, val accuracy: 0.627\n",
      "Loss: 1.1530830159768963, Train accuracy: 0.6481111111111111, val accuracy: 0.611\n",
      "Loss: 2.1591747652603313, Train accuracy: 0.6386666666666667, val accuracy: 0.621\n",
      "Loss: 1.5502693042416387, Train accuracy: 0.6053333333333333, val accuracy: 0.565\n",
      "Loss: 1.233185505390149, Train accuracy: 0.6846666666666666, val accuracy: 0.644\n",
      "Loss: 1.4791728140862639, Train accuracy: 0.6374444444444445, val accuracy: 0.611\n",
      "Loss: 1.419809103645842, Train accuracy: 0.6602222222222223, val accuracy: 0.628\n",
      "Loss: 1.6643000379268034, Train accuracy: 0.6627777777777778, val accuracy: 0.606\n",
      "Loss: 1.5548197893756566, Train accuracy: 0.6537777777777778, val accuracy: 0.618\n",
      "Loss: 1.4277573504952001, Train accuracy: 0.6776666666666666, val accuracy: 0.654\n",
      "Loss: 1.4770756973941293, Train accuracy: 0.6124444444444445, val accuracy: 0.571\n",
      "Loss: 1.8984885622957903, Train accuracy: 0.5947777777777777, val accuracy: 0.565\n",
      "Loss: 1.5847950367018506, Train accuracy: 0.6857777777777778, val accuracy: 0.645\n",
      "Loss: 1.78856025889989, Train accuracy: 0.6391111111111111, val accuracy: 0.593\n",
      "Loss: 1.4443910785183953, Train accuracy: 0.6717777777777778, val accuracy: 0.643\n",
      "Loss: 2.0809757240589426, Train accuracy: 0.6464444444444445, val accuracy: 0.621\n",
      "Loss: 1.5691532162286213, Train accuracy: 0.6763333333333333, val accuracy: 0.636\n",
      "Loss: 1.5879070240145268, Train accuracy: 0.6472222222222223, val accuracy: 0.629\n",
      "Loss: 1.4500722192867694, Train accuracy: 0.6778888888888889, val accuracy: 0.646\n",
      "Loss: 1.4891152904080978, Train accuracy: 0.6657777777777778, val accuracy: 0.613\n",
      "Loss: 1.2916521943744885, Train accuracy: 0.6362222222222222, val accuracy: 0.597\n",
      "Loss: 1.2128112914189588, Train accuracy: 0.6444444444444445, val accuracy: 0.623\n",
      "Loss: 1.441558603204058, Train accuracy: 0.6475555555555556, val accuracy: 0.618\n",
      "Loss: 1.3702594493152418, Train accuracy: 0.6211111111111111, val accuracy: 0.57\n",
      "Loss: 1.7659678866468547, Train accuracy: 0.6932222222222222, val accuracy: 0.65\n",
      "Loss: 1.77049294222563, Train accuracy: 0.662, val accuracy: 0.624\n",
      "Loss: 2.300958616862018, Train accuracy: 0.6648888888888889, val accuracy: 0.623\n",
      "Loss: 1.499618806102466, Train accuracy: 0.6893333333333334, val accuracy: 0.646\n",
      "Loss: 1.8583460080003738, Train accuracy: 0.65, val accuracy: 0.6\n",
      "Loss: 1.6613353001662579, Train accuracy: 0.6496666666666666, val accuracy: 0.599\n",
      "Loss: 1.8387833892001373, Train accuracy: 0.6438888888888888, val accuracy: 0.618\n",
      "Loss: 1.4472719975869408, Train accuracy: 0.6575555555555556, val accuracy: 0.622\n",
      "Loss: 1.298059208691095, Train accuracy: 0.6673333333333333, val accuracy: 0.634\n",
      "Loss: 1.912182902379406, Train accuracy: 0.6982222222222222, val accuracy: 0.643\n",
      "Loss: 1.910686879536632, Train accuracy: 0.6666666666666666, val accuracy: 0.632\n",
      "Loss: 2.130045085416075, Train accuracy: 0.638, val accuracy: 0.607\n",
      "Loss: 1.6686522317597374, Train accuracy: 0.667, val accuracy: 0.631\n",
      "Loss: 1.604241287678028, Train accuracy: 0.6375555555555555, val accuracy: 0.592\n",
      "Loss: 1.506951452339476, Train accuracy: 0.5943333333333334, val accuracy: 0.571\n",
      "Loss: 1.7285793740263915, Train accuracy: 0.6176666666666667, val accuracy: 0.599\n",
      "Loss: 1.7585932278392145, Train accuracy: 0.65, val accuracy: 0.616\n",
      "Loss: 1.6509262861253002, Train accuracy: 0.7248888888888889, val accuracy: 0.682\n",
      "Loss: 1.8637261200818382, Train accuracy: 0.6773333333333333, val accuracy: 0.647\n",
      "Loss: 1.5690733291038899, Train accuracy: 0.6231111111111111, val accuracy: 0.588\n",
      "Loss: 1.7146998143903112, Train accuracy: 0.6718888888888889, val accuracy: 0.656\n",
      "Loss: 1.852176231800358, Train accuracy: 0.6323333333333333, val accuracy: 0.605\n",
      "Loss: 2.028129883265049, Train accuracy: 0.624, val accuracy: 0.6\n",
      "Loss: 1.461581969163319, Train accuracy: 0.6144444444444445, val accuracy: 0.595\n",
      "Loss: 1.7956041230132338, Train accuracy: 0.6237777777777778, val accuracy: 0.589\n",
      "Loss: 1.5517223420707404, Train accuracy: 0.5921111111111111, val accuracy: 0.565\n",
      "Loss: 2.1079590931619525, Train accuracy: 0.6306666666666667, val accuracy: 0.616\n",
      "Loss: 1.3981364788981745, Train accuracy: 0.6808888888888889, val accuracy: 0.635\n",
      "Loss: 1.4746543815920026, Train accuracy: 0.6318888888888889, val accuracy: 0.597\n",
      "Loss: 1.2071593513721819, Train accuracy: 0.6472222222222223, val accuracy: 0.61\n",
      "Loss: 1.7756362226567926, Train accuracy: 0.6564444444444445, val accuracy: 0.626\n",
      "Loss: 2.256703885626513, Train accuracy: 0.6575555555555556, val accuracy: 0.628\n",
      "Loss: 1.2817725671111668, Train accuracy: 0.7163333333333334, val accuracy: 0.676\n",
      "Loss: 1.422743878455175, Train accuracy: 0.6285555555555555, val accuracy: 0.608\n",
      "Loss: 1.5882206084248165, Train accuracy: 0.6227777777777778, val accuracy: 0.584\n",
      "Loss: 1.2101120329767987, Train accuracy: 0.6977777777777778, val accuracy: 0.671\n",
      "Loss: 1.7100152001205176, Train accuracy: 0.6524444444444445, val accuracy: 0.611\n",
      "Loss: 1.3078025438760212, Train accuracy: 0.6778888888888889, val accuracy: 0.654\n",
      "Loss: 1.6505175039839437, Train accuracy: 0.6261111111111111, val accuracy: 0.597\n",
      "Loss: 1.868474845897301, Train accuracy: 0.6747777777777778, val accuracy: 0.641\n",
      "Loss: 1.5675873824152284, Train accuracy: 0.6605555555555556, val accuracy: 0.637\n",
      "Loss: 1.7439786000303283, Train accuracy: 0.6728888888888889, val accuracy: 0.65\n",
      "Loss: 1.540380591335704, Train accuracy: 0.603, val accuracy: 0.55\n",
      "Loss: 1.6246167179953532, Train accuracy: 0.5826666666666667, val accuracy: 0.563\n",
      "Loss: 1.219112544780523, Train accuracy: 0.6951111111111111, val accuracy: 0.65\n",
      "Loss: 1.5036375005802578, Train accuracy: 0.6764444444444444, val accuracy: 0.626\n",
      "Loss: 1.5656328950236151, Train accuracy: 0.6361111111111111, val accuracy: 0.615\n",
      "Loss: 1.742464904892924, Train accuracy: 0.6525555555555556, val accuracy: 0.594\n",
      "Loss: 1.788928700236578, Train accuracy: 0.647, val accuracy: 0.605\n",
      "Loss: 1.5510099136998452, Train accuracy: 0.6443333333333333, val accuracy: 0.604\n",
      "Loss: 1.6767813472073945, Train accuracy: 0.6783333333333333, val accuracy: 0.643\n",
      "Loss: 1.603977835693112, Train accuracy: 0.6632222222222223, val accuracy: 0.628\n",
      "Loss: 1.1530293226427704, Train accuracy: 0.6681111111111111, val accuracy: 0.631\n",
      "Loss: 1.4200360047293272, Train accuracy: 0.6025555555555555, val accuracy: 0.55\n",
      "Loss: 1.5556303530890554, Train accuracy: 0.6672222222222223, val accuracy: 0.636\n",
      "Loss: 1.2202209955332441, Train accuracy: 0.6357777777777778, val accuracy: 0.599\n",
      "Loss: 1.4775599188625694, Train accuracy: 0.6173333333333333, val accuracy: 0.587\n",
      "Loss: 1.5441007299378338, Train accuracy: 0.6382222222222222, val accuracy: 0.598\n",
      "Loss: 1.7788645787514143, Train accuracy: 0.6423333333333333, val accuracy: 0.609\n",
      "Loss: 1.5034631210946752, Train accuracy: 0.6536666666666666, val accuracy: 0.593\n",
      "Loss: 1.6448575105781114, Train accuracy: 0.6697777777777778, val accuracy: 0.62\n",
      "Loss: 2.1326469453764383, Train accuracy: 0.6901111111111111, val accuracy: 0.646\n",
      "Loss: 1.7670846306889247, Train accuracy: 0.6967777777777778, val accuracy: 0.656\n",
      "Loss: 2.150364705536787, Train accuracy: 0.6062222222222222, val accuracy: 0.594\n"
     ]
    },
    {
     "name": "stdout",
     "output_type": "stream",
     "text": [
      "Loss: 1.5408208389003004, Train accuracy: 0.6545555555555556, val accuracy: 0.629\n",
      "Loss: 1.5031708116050342, Train accuracy: 0.6625555555555556, val accuracy: 0.623\n",
      "Loss: 1.2999768883376184, Train accuracy: 0.6511111111111111, val accuracy: 0.627\n",
      "Loss: 1.3579787471307048, Train accuracy: 0.6935555555555556, val accuracy: 0.651\n",
      "Loss: 1.4214843665368324, Train accuracy: 0.6607777777777778, val accuracy: 0.629\n",
      "Loss: 1.694937213410026, Train accuracy: 0.6771111111111111, val accuracy: 0.648\n",
      "Loss: 1.8234131421414266, Train accuracy: 0.7103333333333334, val accuracy: 0.654\n",
      "Loss: 1.5336879423911791, Train accuracy: 0.6127777777777778, val accuracy: 0.611\n",
      "Loss: 1.1911095180176567, Train accuracy: 0.6831111111111111, val accuracy: 0.626\n",
      "Loss: 1.7879743131739039, Train accuracy: 0.6962222222222222, val accuracy: 0.672\n",
      "Loss: 2.1290371082988675, Train accuracy: 0.629, val accuracy: 0.586\n",
      "Loss: 1.6902802090540234, Train accuracy: 0.6447777777777778, val accuracy: 0.605\n",
      "Loss: 1.4796915428345532, Train accuracy: 0.6672222222222223, val accuracy: 0.621\n",
      "Loss: 1.3564397167859337, Train accuracy: 0.6762222222222222, val accuracy: 0.655\n",
      "Loss: 1.6753186371761828, Train accuracy: 0.6754444444444444, val accuracy: 0.63\n",
      "Loss: 1.7465775078922703, Train accuracy: 0.6535555555555556, val accuracy: 0.612\n",
      "Loss: 1.3472253491721804, Train accuracy: 0.7052222222222222, val accuracy: 0.659\n",
      "Loss: 1.6877381754463898, Train accuracy: 0.6323333333333333, val accuracy: 0.607\n",
      "Loss: 1.6997991416525073, Train accuracy: 0.6557777777777778, val accuracy: 0.619\n",
      "Loss: 1.7334846373714365, Train accuracy: 0.6668888888888889, val accuracy: 0.63\n",
      "Loss: 1.6318396218303168, Train accuracy: 0.6936666666666667, val accuracy: 0.638\n",
      "Loss: 1.5964260137847521, Train accuracy: 0.6671111111111111, val accuracy: 0.622\n",
      "Loss: 1.4973940594004906, Train accuracy: 0.6386666666666667, val accuracy: 0.628\n",
      "Loss: 1.4795323404172565, Train accuracy: 0.6617777777777778, val accuracy: 0.617\n",
      "Loss: 1.0246719873602128, Train accuracy: 0.6518888888888889, val accuracy: 0.625\n",
      "Loss: 1.3652303041768008, Train accuracy: 0.6631111111111111, val accuracy: 0.617\n",
      "Loss: 1.8298942072343418, Train accuracy: 0.6316666666666667, val accuracy: 0.613\n",
      "Loss: 1.6186060773701303, Train accuracy: 0.6922222222222222, val accuracy: 0.654\n",
      "Loss: 1.1543765345144161, Train accuracy: 0.647, val accuracy: 0.628\n",
      "Loss: 1.7224406322426276, Train accuracy: 0.6705555555555556, val accuracy: 0.643\n",
      "Loss: 1.6146126248960744, Train accuracy: 0.707, val accuracy: 0.67\n",
      "Loss: 1.7994735153415884, Train accuracy: 0.6363333333333333, val accuracy: 0.592\n",
      "Loss: 1.8022020568043935, Train accuracy: 0.6316666666666667, val accuracy: 0.589\n",
      "Loss: 1.5481304423104998, Train accuracy: 0.618, val accuracy: 0.581\n",
      "Loss: 1.7775829412859088, Train accuracy: 0.654, val accuracy: 0.628\n",
      "Loss: 1.4053780123875823, Train accuracy: 0.6322222222222222, val accuracy: 0.626\n",
      "Loss: 1.8830337761930154, Train accuracy: 0.6434444444444445, val accuracy: 0.604\n",
      "Loss: 1.223848614831288, Train accuracy: 0.6503333333333333, val accuracy: 0.625\n",
      "Loss: 1.854218617478899, Train accuracy: 0.6405555555555555, val accuracy: 0.614\n",
      "Loss: 1.5854719538876276, Train accuracy: 0.5997777777777777, val accuracy: 0.579\n",
      "Loss: 2.0678709836446387, Train accuracy: 0.6353333333333333, val accuracy: 0.612\n",
      "Loss: 1.3654204287172123, Train accuracy: 0.6875555555555556, val accuracy: 0.632\n",
      "Loss: 1.4037039414051522, Train accuracy: 0.6044444444444445, val accuracy: 0.6\n",
      "Loss: 1.6945583801958208, Train accuracy: 0.6591111111111111, val accuracy: 0.653\n",
      "Loss: 1.4433217554842581, Train accuracy: 0.6712222222222223, val accuracy: 0.637\n",
      "Loss: 1.7847965438934024, Train accuracy: 0.6544444444444445, val accuracy: 0.612\n",
      "Loss: 1.4201934388368538, Train accuracy: 0.6796666666666666, val accuracy: 0.634\n",
      "Loss: 1.614041686948677, Train accuracy: 0.6787777777777778, val accuracy: 0.624\n",
      "Loss: 1.1562936568588174, Train accuracy: 0.6593333333333333, val accuracy: 0.603\n",
      "Loss: 1.6063417836112381, Train accuracy: 0.6661111111111111, val accuracy: 0.612\n",
      "Loss: 1.3475547800554293, Train accuracy: 0.6635555555555556, val accuracy: 0.625\n",
      "Loss: 1.4384372614003034, Train accuracy: 0.6717777777777778, val accuracy: 0.649\n",
      "Loss: 1.8164338811095915, Train accuracy: 0.6618888888888889, val accuracy: 0.629\n",
      "Loss: 1.8015623346408913, Train accuracy: 0.6512222222222223, val accuracy: 0.627\n",
      "Loss: 1.551401938531583, Train accuracy: 0.6873333333333334, val accuracy: 0.654\n",
      "Loss: 1.198053574742294, Train accuracy: 0.6852222222222222, val accuracy: 0.648\n",
      "Loss: 1.3581995929924857, Train accuracy: 0.6748888888888889, val accuracy: 0.641\n",
      "Loss: 1.2176090383908047, Train accuracy: 0.6632222222222223, val accuracy: 0.624\n",
      "Loss: 1.4204777942563087, Train accuracy: 0.6551111111111111, val accuracy: 0.618\n",
      "Loss: 1.6208857255575564, Train accuracy: 0.6618888888888889, val accuracy: 0.628\n",
      "Loss: 1.2213554993894875, Train accuracy: 0.6843333333333333, val accuracy: 0.654\n",
      "Loss: 1.5822383589202214, Train accuracy: 0.6514444444444445, val accuracy: 0.621\n",
      "Loss: 1.24846988153311, Train accuracy: 0.6422222222222222, val accuracy: 0.605\n",
      "Loss: 1.278444635463377, Train accuracy: 0.6793333333333333, val accuracy: 0.645\n",
      "Loss: 1.329710520937807, Train accuracy: 0.6826666666666666, val accuracy: 0.65\n",
      "Loss: 1.24016172802645, Train accuracy: 0.6437777777777778, val accuracy: 0.58\n",
      "Loss: 1.7576937373101824, Train accuracy: 0.647, val accuracy: 0.613\n",
      "Loss: 2.068576834507626, Train accuracy: 0.6731111111111111, val accuracy: 0.637\n",
      "Loss: 1.717630300735033, Train accuracy: 0.632, val accuracy: 0.6\n",
      "Loss: 1.9852678578001215, Train accuracy: 0.6396666666666667, val accuracy: 0.615\n",
      "Loss: 2.2319461303302637, Train accuracy: 0.6502222222222223, val accuracy: 0.628\n",
      "Loss: 1.6131722256584338, Train accuracy: 0.7181111111111111, val accuracy: 0.675\n",
      "Loss: 1.6887225721367807, Train accuracy: 0.6625555555555556, val accuracy: 0.624\n",
      "Loss: 2.27505704316079, Train accuracy: 0.6316666666666667, val accuracy: 0.607\n",
      "Loss: 2.0888871171512946, Train accuracy: 0.6173333333333333, val accuracy: 0.618\n",
      "Loss: 1.313404666789425, Train accuracy: 0.6478888888888888, val accuracy: 0.61\n",
      "Loss: 1.5178475548428032, Train accuracy: 0.6732222222222223, val accuracy: 0.643\n",
      "Loss: 1.6544467938645702, Train accuracy: 0.6387777777777778, val accuracy: 0.603\n",
      "Loss: 1.6777954549279923, Train accuracy: 0.6397777777777778, val accuracy: 0.624\n",
      "Loss: 1.6436767922018953, Train accuracy: 0.6992222222222222, val accuracy: 0.674\n",
      "Loss: 1.7472341165903267, Train accuracy: 0.645, val accuracy: 0.618\n",
      "Loss: 1.6573468573636765, Train accuracy: 0.702, val accuracy: 0.666\n",
      "Loss: 1.317119845535311, Train accuracy: 0.6447777777777778, val accuracy: 0.617\n",
      "Loss: 1.7591089045417845, Train accuracy: 0.659, val accuracy: 0.619\n",
      "Loss: 1.435446010318352, Train accuracy: 0.655, val accuracy: 0.622\n",
      "Loss: 1.4955360725371163, Train accuracy: 0.6385555555555555, val accuracy: 0.601\n",
      "Loss: 1.3133943768069671, Train accuracy: 0.5607777777777778, val accuracy: 0.524\n",
      "Loss: 1.6888411014843876, Train accuracy: 0.6378888888888888, val accuracy: 0.615\n",
      "Loss: 1.6680641319169132, Train accuracy: 0.6795555555555556, val accuracy: 0.651\n",
      "Loss: 1.7241795369577502, Train accuracy: 0.5844444444444444, val accuracy: 0.548\n",
      "Loss: 1.9005627717246159, Train accuracy: 0.6478888888888888, val accuracy: 0.612\n",
      "Loss: 1.5260212458445872, Train accuracy: 0.6064444444444445, val accuracy: 0.585\n",
      "Loss: 1.71033858551192, Train accuracy: 0.6633333333333333, val accuracy: 0.634\n",
      "Loss: 1.9853348621823357, Train accuracy: 0.6216666666666667, val accuracy: 0.566\n",
      "Loss: 1.4904697171636867, Train accuracy: 0.6905555555555556, val accuracy: 0.651\n",
      "Loss: 1.2398007565683864, Train accuracy: 0.6991111111111111, val accuracy: 0.658\n",
      "Loss: 1.9496815301116373, Train accuracy: 0.6264444444444445, val accuracy: 0.606\n",
      "Loss: 1.2879333579032557, Train accuracy: 0.6725555555555556, val accuracy: 0.632\n",
      "best validation accuracy achieved: 0.632000\n"
     ]
    }
   ],
   "source": [
    "# Let's train the best one-hidden-layer network we can\n",
    "\n",
    "learning_rates = 1e-1\n",
    "reg_strength = 1e-3\n",
    "learning_rate_decay = 0.99\n",
    "hidden_layer_size = 100\n",
    "num_epochs = 200\n",
    "batch_size = 64\n",
    "\n",
    "best_classifier = None\n",
    "best_val_accuracy = None\n",
    "\n",
    "loss_history = []\n",
    "train_history = []\n",
    "val_history = []\n",
    "\n",
    "best_classifier = TwoLayerNet(n_input = train_X.shape[1], n_output = 10, hidden_layer_size = hidden_layer_size, \n",
    "                              reg = reg_strength)\n",
    "dataset = Dataset(train_X, train_y, val_X, val_y)\n",
    "trainer = Trainer(best_classifier, dataset, MomentumSGD(), learning_rate=learning_rates, num_epochs=num_epochs, \n",
    "                  batch_size=batch_size)\n",
    "loss_history, train_history, val_history = trainer.fit()\n",
    "best_val_accuracy = val_history[-1]\n",
    "\n",
    "print('best validation accuracy achieved: %f' % best_val_accuracy)"
   ]
  },
  {
   "cell_type": "code",
   "execution_count": 16,
   "metadata": {},
   "outputs": [
    {
     "data": {
      "text/plain": [
       "[<matplotlib.lines.Line2D at 0x2072b061210>]"
      ]
     },
     "execution_count": 16,
     "metadata": {},
     "output_type": "execute_result"
    },
    {
     "data": {
      "image/png": "[encoded data removed]",
      "text/plain": [
       "<Figure size 1080x504 with 2 Axes>"
      ]
     },
     "metadata": {
      "needs_background": "light"
     },
     "output_type": "display_data"
    }
   ],
   "source": [
    "plt.figure(figsize=(15, 7))\n",
    "plt.subplot(211)\n",
    "plt.title(\"Loss\")\n",
    "plt.plot(loss_history)\n",
    "plt.subplot(212)\n",
    "plt.title(\"Train/validation accuracy\")\n",
    "plt.plot(train_history)\n",
    "plt.plot(val_history)"
   ]
  },
  {
   "cell_type": "markdown",
   "metadata": {},
   "source": [
    "# Как обычно, посмотрим, как наша лучшая модель работает на тестовых данных"
   ]
  },
  {
   "cell_type": "code",
   "execution_count": 17,
   "metadata": {},
   "outputs": [
    {
     "name": "stdout",
     "output_type": "stream",
     "text": [
      "Neural net test set accuracy: 0.578000\n"
     ]
    }
   ],
   "source": [
    "test_pred = best_classifier.predict(test_X)\n",
    "test_accuracy = multiclass_accuracy(test_pred, test_y)\n",
    "print('Neural net test set accuracy: %f' % (test_accuracy, ))"
   ]
  }
 ],
 "metadata": {
  "kernelspec": {
   "display_name": "Python 3 (ipykernel)",
   "language": "python",
   "name": "python3"
  },
  "language_info": {
   "codemirror_mode": {
    "name": "ipython",
    "version": 3
   },
   "file_extension": ".py",
   "mimetype": "text/x-python",
   "name": "python",
   "nbconvert_exporter": "python",
   "pygments_lexer": "ipython3",
   "version": "3.10.4"
  }
 },
 "nbformat": 4,
 "nbformat_minor": 2
}